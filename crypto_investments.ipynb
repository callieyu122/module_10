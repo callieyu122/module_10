{
 "cells": [
  {
   "cell_type": "markdown",
   "metadata": {},
   "source": [
    "### Import the Data\n",
    "\n",
    "This section imports the data into a new DataFrame. It follows these steps:\n",
    "\n",
    "1. Read  the “crypto_market_data.csv” file from the Resources folder into a DataFrame, and use `index_col=\"coin_id\"` to set the cryptocurrency name as the index. Review the DataFrame.\n",
    "\n",
    "2. Generate the summary statistics, and and use HvPlot to visualize your data to observe what your DataFrame contains.\n",
    "\n",
    "\n",
    "> **Rewind:** The [Pandas`describe()`function](https://pandas.pydata.org/pandas-docs/stable/reference/api/pandas.DataFrame.describe.html) generates summary statistics for a DataFrame. "
   ]
  },
  {
   "cell_type": "code",
   "execution_count": 42,
   "metadata": {},
   "outputs": [],
   "source": [
    "# Import required libraries and dependencies\n",
    "import pandas as pd\n",
    "import hvplot.pandas\n",
    "from path import Path\n",
    "from sklearn.cluster import KMeans\n",
    "from sklearn.decomposition import PCA\n",
    "from sklearn.preprocessing import StandardScaler"
   ]
  },
  {
   "cell_type": "code",
   "execution_count": 43,
   "metadata": {},
   "outputs": [
    {
     "data": {
      "text/html": [
       "<div>\n",
       "<style scoped>\n",
       "    .dataframe tbody tr th:only-of-type {\n",
       "        vertical-align: middle;\n",
       "    }\n",
       "\n",
       "    .dataframe tbody tr th {\n",
       "        vertical-align: top;\n",
       "    }\n",
       "\n",
       "    .dataframe thead th {\n",
       "        text-align: right;\n",
       "    }\n",
       "</style>\n",
       "<table border=\"1\" class=\"dataframe\">\n",
       "  <thead>\n",
       "    <tr style=\"text-align: right;\">\n",
       "      <th></th>\n",
       "      <th>price_change_percentage_24h</th>\n",
       "      <th>price_change_percentage_7d</th>\n",
       "      <th>price_change_percentage_14d</th>\n",
       "      <th>price_change_percentage_30d</th>\n",
       "      <th>price_change_percentage_60d</th>\n",
       "      <th>price_change_percentage_200d</th>\n",
       "      <th>price_change_percentage_1y</th>\n",
       "    </tr>\n",
       "    <tr>\n",
       "      <th>coin_id</th>\n",
       "      <th></th>\n",
       "      <th></th>\n",
       "      <th></th>\n",
       "      <th></th>\n",
       "      <th></th>\n",
       "      <th></th>\n",
       "      <th></th>\n",
       "    </tr>\n",
       "  </thead>\n",
       "  <tbody>\n",
       "    <tr>\n",
       "      <th>bitcoin</th>\n",
       "      <td>1.08388</td>\n",
       "      <td>7.60278</td>\n",
       "      <td>6.57509</td>\n",
       "      <td>7.67258</td>\n",
       "      <td>-3.25185</td>\n",
       "      <td>83.51840</td>\n",
       "      <td>37.51761</td>\n",
       "    </tr>\n",
       "    <tr>\n",
       "      <th>ethereum</th>\n",
       "      <td>0.22392</td>\n",
       "      <td>10.38134</td>\n",
       "      <td>4.80849</td>\n",
       "      <td>0.13169</td>\n",
       "      <td>-12.88890</td>\n",
       "      <td>186.77418</td>\n",
       "      <td>101.96023</td>\n",
       "    </tr>\n",
       "    <tr>\n",
       "      <th>tether</th>\n",
       "      <td>-0.21173</td>\n",
       "      <td>0.04935</td>\n",
       "      <td>0.00640</td>\n",
       "      <td>-0.04237</td>\n",
       "      <td>0.28037</td>\n",
       "      <td>-0.00542</td>\n",
       "      <td>0.01954</td>\n",
       "    </tr>\n",
       "    <tr>\n",
       "      <th>ripple</th>\n",
       "      <td>-0.37819</td>\n",
       "      <td>-0.60926</td>\n",
       "      <td>2.24984</td>\n",
       "      <td>0.23455</td>\n",
       "      <td>-17.55245</td>\n",
       "      <td>39.53888</td>\n",
       "      <td>-16.60193</td>\n",
       "    </tr>\n",
       "    <tr>\n",
       "      <th>bitcoin-cash</th>\n",
       "      <td>2.90585</td>\n",
       "      <td>17.09717</td>\n",
       "      <td>14.75334</td>\n",
       "      <td>15.74903</td>\n",
       "      <td>-13.71793</td>\n",
       "      <td>21.66042</td>\n",
       "      <td>14.49384</td>\n",
       "    </tr>\n",
       "  </tbody>\n",
       "</table>\n",
       "</div>"
      ],
      "text/plain": [
       "              price_change_percentage_24h  price_change_percentage_7d  \\\n",
       "coin_id                                                                 \n",
       "bitcoin                           1.08388                     7.60278   \n",
       "ethereum                          0.22392                    10.38134   \n",
       "tether                           -0.21173                     0.04935   \n",
       "ripple                           -0.37819                    -0.60926   \n",
       "bitcoin-cash                      2.90585                    17.09717   \n",
       "\n",
       "              price_change_percentage_14d  price_change_percentage_30d  \\\n",
       "coin_id                                                                  \n",
       "bitcoin                           6.57509                      7.67258   \n",
       "ethereum                          4.80849                      0.13169   \n",
       "tether                            0.00640                     -0.04237   \n",
       "ripple                            2.24984                      0.23455   \n",
       "bitcoin-cash                     14.75334                     15.74903   \n",
       "\n",
       "              price_change_percentage_60d  price_change_percentage_200d  \\\n",
       "coin_id                                                                   \n",
       "bitcoin                          -3.25185                      83.51840   \n",
       "ethereum                        -12.88890                     186.77418   \n",
       "tether                            0.28037                      -0.00542   \n",
       "ripple                          -17.55245                      39.53888   \n",
       "bitcoin-cash                    -13.71793                      21.66042   \n",
       "\n",
       "              price_change_percentage_1y  \n",
       "coin_id                                   \n",
       "bitcoin                         37.51761  \n",
       "ethereum                       101.96023  \n",
       "tether                           0.01954  \n",
       "ripple                         -16.60193  \n",
       "bitcoin-cash                    14.49384  "
      ]
     },
     "execution_count": 43,
     "metadata": {},
     "output_type": "execute_result"
    }
   ],
   "source": [
    "# Load the data into a Pandas DataFrame\n",
    "df_market_data = pd.read_csv(\n",
    "    Path(\"Resources/crypto_market_data.csv\"),\n",
    "    index_col=\"coin_id\")\n",
    "\n",
    "# Display sample data\n",
    "df_market_data.head(5)"
   ]
  },
  {
   "cell_type": "code",
   "execution_count": 44,
   "metadata": {},
   "outputs": [
    {
     "data": {
      "text/html": [
       "<div>\n",
       "<style scoped>\n",
       "    .dataframe tbody tr th:only-of-type {\n",
       "        vertical-align: middle;\n",
       "    }\n",
       "\n",
       "    .dataframe tbody tr th {\n",
       "        vertical-align: top;\n",
       "    }\n",
       "\n",
       "    .dataframe thead th {\n",
       "        text-align: right;\n",
       "    }\n",
       "</style>\n",
       "<table border=\"1\" class=\"dataframe\">\n",
       "  <thead>\n",
       "    <tr style=\"text-align: right;\">\n",
       "      <th></th>\n",
       "      <th>price_change_percentage_24h</th>\n",
       "      <th>price_change_percentage_7d</th>\n",
       "      <th>price_change_percentage_14d</th>\n",
       "      <th>price_change_percentage_30d</th>\n",
       "      <th>price_change_percentage_60d</th>\n",
       "      <th>price_change_percentage_200d</th>\n",
       "      <th>price_change_percentage_1y</th>\n",
       "    </tr>\n",
       "  </thead>\n",
       "  <tbody>\n",
       "    <tr>\n",
       "      <th>count</th>\n",
       "      <td>41.000000</td>\n",
       "      <td>41.000000</td>\n",
       "      <td>41.000000</td>\n",
       "      <td>41.000000</td>\n",
       "      <td>41.000000</td>\n",
       "      <td>41.000000</td>\n",
       "      <td>41.000000</td>\n",
       "    </tr>\n",
       "    <tr>\n",
       "      <th>mean</th>\n",
       "      <td>-0.269686</td>\n",
       "      <td>4.497147</td>\n",
       "      <td>0.185787</td>\n",
       "      <td>1.545693</td>\n",
       "      <td>-0.094119</td>\n",
       "      <td>236.537432</td>\n",
       "      <td>347.667956</td>\n",
       "    </tr>\n",
       "    <tr>\n",
       "      <th>std</th>\n",
       "      <td>2.694793</td>\n",
       "      <td>6.375218</td>\n",
       "      <td>8.376939</td>\n",
       "      <td>26.344218</td>\n",
       "      <td>47.365803</td>\n",
       "      <td>435.225304</td>\n",
       "      <td>1247.842884</td>\n",
       "    </tr>\n",
       "    <tr>\n",
       "      <th>min</th>\n",
       "      <td>-13.527860</td>\n",
       "      <td>-6.094560</td>\n",
       "      <td>-18.158900</td>\n",
       "      <td>-34.705480</td>\n",
       "      <td>-44.822480</td>\n",
       "      <td>-0.392100</td>\n",
       "      <td>-17.567530</td>\n",
       "    </tr>\n",
       "    <tr>\n",
       "      <th>25%</th>\n",
       "      <td>-0.608970</td>\n",
       "      <td>0.047260</td>\n",
       "      <td>-5.026620</td>\n",
       "      <td>-10.438470</td>\n",
       "      <td>-25.907990</td>\n",
       "      <td>21.660420</td>\n",
       "      <td>0.406170</td>\n",
       "    </tr>\n",
       "    <tr>\n",
       "      <th>50%</th>\n",
       "      <td>-0.063410</td>\n",
       "      <td>3.296410</td>\n",
       "      <td>0.109740</td>\n",
       "      <td>-0.042370</td>\n",
       "      <td>-7.544550</td>\n",
       "      <td>83.905200</td>\n",
       "      <td>69.691950</td>\n",
       "    </tr>\n",
       "    <tr>\n",
       "      <th>75%</th>\n",
       "      <td>0.612090</td>\n",
       "      <td>7.602780</td>\n",
       "      <td>5.510740</td>\n",
       "      <td>4.578130</td>\n",
       "      <td>0.657260</td>\n",
       "      <td>216.177610</td>\n",
       "      <td>168.372510</td>\n",
       "    </tr>\n",
       "    <tr>\n",
       "      <th>max</th>\n",
       "      <td>4.840330</td>\n",
       "      <td>20.694590</td>\n",
       "      <td>24.239190</td>\n",
       "      <td>140.795700</td>\n",
       "      <td>223.064370</td>\n",
       "      <td>2227.927820</td>\n",
       "      <td>7852.089700</td>\n",
       "    </tr>\n",
       "  </tbody>\n",
       "</table>\n",
       "</div>"
      ],
      "text/plain": [
       "       price_change_percentage_24h  price_change_percentage_7d  \\\n",
       "count                    41.000000                   41.000000   \n",
       "mean                     -0.269686                    4.497147   \n",
       "std                       2.694793                    6.375218   \n",
       "min                     -13.527860                   -6.094560   \n",
       "25%                      -0.608970                    0.047260   \n",
       "50%                      -0.063410                    3.296410   \n",
       "75%                       0.612090                    7.602780   \n",
       "max                       4.840330                   20.694590   \n",
       "\n",
       "       price_change_percentage_14d  price_change_percentage_30d  \\\n",
       "count                    41.000000                    41.000000   \n",
       "mean                      0.185787                     1.545693   \n",
       "std                       8.376939                    26.344218   \n",
       "min                     -18.158900                   -34.705480   \n",
       "25%                      -5.026620                   -10.438470   \n",
       "50%                       0.109740                    -0.042370   \n",
       "75%                       5.510740                     4.578130   \n",
       "max                      24.239190                   140.795700   \n",
       "\n",
       "       price_change_percentage_60d  price_change_percentage_200d  \\\n",
       "count                    41.000000                     41.000000   \n",
       "mean                     -0.094119                    236.537432   \n",
       "std                      47.365803                    435.225304   \n",
       "min                     -44.822480                     -0.392100   \n",
       "25%                     -25.907990                     21.660420   \n",
       "50%                      -7.544550                     83.905200   \n",
       "75%                       0.657260                    216.177610   \n",
       "max                     223.064370                   2227.927820   \n",
       "\n",
       "       price_change_percentage_1y  \n",
       "count                   41.000000  \n",
       "mean                   347.667956  \n",
       "std                   1247.842884  \n",
       "min                    -17.567530  \n",
       "25%                      0.406170  \n",
       "50%                     69.691950  \n",
       "75%                    168.372510  \n",
       "max                   7852.089700  "
      ]
     },
     "execution_count": 44,
     "metadata": {},
     "output_type": "execute_result"
    }
   ],
   "source": [
    "# Generate summary statistics\n",
    "df_market_data.describe()"
   ]
  },
  {
   "cell_type": "code",
   "execution_count": 45,
   "metadata": {},
   "outputs": [
    {
     "data": {},
     "metadata": {},
     "output_type": "display_data"
    },
    {
     "data": {
      "application/vnd.holoviews_exec.v0+json": "",
      "text/html": [
       "<div id='2022'>\n",
       "\n",
       "\n",
       "\n",
       "\n",
       "\n",
       "  <div class=\"bk-root\" id=\"c3e4241c-c8d9-456a-b481-39bf7cb541a5\" data-root-id=\"2022\"></div>\n",
       "</div>\n",
       "<script type=\"application/javascript\">(function(root) {\n",
       "  function embed_document(root) {\n",
       "    var docs_json = {\"aa3a4b87-4198-45e3-a67a-6313e8f48afc\":{\"defs\":[],\"roots\":{\"references\":[{\"attributes\":{},\"id\":\"2051\",\"type\":\"WheelZoomTool\"},{\"attributes\":{\"line_color\":\"#8b8b8b\",\"line_width\":2,\"x\":{\"field\":\"coin_id\"},\"y\":{\"field\":\"value\"}},\"id\":\"2164\",\"type\":\"Line\"},{\"attributes\":{\"data_source\":{\"id\":\"2219\"},\"glyph\":{\"id\":\"2222\"},\"hover_glyph\":null,\"muted_glyph\":{\"id\":\"2224\"},\"nonselection_glyph\":{\"id\":\"2223\"},\"selection_glyph\":{\"id\":\"2250\"},\"view\":{\"id\":\"2226\"}},\"id\":\"2225\",\"type\":\"GlyphRenderer\"},{\"attributes\":{\"data\":{\"Variable\":[\"price_change_percentage_14d\",\"price_change_percentage_14d\",\"price_change_percentage_14d\",\"price_change_percentage_14d\",\"price_change_percentage_14d\",\"price_change_percentage_14d\",\"price_change_percentage_14d\",\"price_change_percentage_14d\",\"price_change_percentage_14d\",\"price_change_percentage_14d\",\"price_change_percentage_14d\",\"price_change_percentage_14d\",\"price_change_percentage_14d\",\"price_change_percentage_14d\",\"price_change_percentage_14d\",\"price_change_percentage_14d\",\"price_change_percentage_14d\",\"price_change_percentage_14d\",\"price_change_percentage_14d\",\"price_change_percentage_14d\",\"price_change_percentage_14d\",\"price_change_percentage_14d\",\"price_change_percentage_14d\",\"price_change_percentage_14d\",\"price_change_percentage_14d\",\"price_change_percentage_14d\",\"price_change_percentage_14d\",\"price_change_percentage_14d\",\"price_change_percentage_14d\",\"price_change_percentage_14d\",\"price_change_percentage_14d\",\"price_change_percentage_14d\",\"price_change_percentage_14d\",\"price_change_percentage_14d\",\"price_change_percentage_14d\",\"price_change_percentage_14d\",\"price_change_percentage_14d\",\"price_change_percentage_14d\",\"price_change_percentage_14d\",\"price_change_percentage_14d\",\"price_change_percentage_14d\"],\"coin_id\":[\"bitcoin\",\"ethereum\",\"tether\",\"ripple\",\"bitcoin-cash\",\"binancecoin\",\"chainlink\",\"cardano\",\"litecoin\",\"bitcoin-cash-sv\",\"crypto-com-chain\",\"usd-coin\",\"eos\",\"monero\",\"tron\",\"tezos\",\"okb\",\"stellar\",\"cosmos\",\"cdai\",\"neo\",\"wrapped-bitcoin\",\"leo-token\",\"huobi-token\",\"nem\",\"binance-usd\",\"iota\",\"vechain\",\"zcash\",\"theta-token\",\"dash\",\"ethereum-classic\",\"ethlend\",\"maker\",\"havven\",\"omisego\",\"celsius-degree-token\",\"ontology\",\"ftx-token\",\"true-usd\",\"digibyte\"],\"value\":{\"__ndarray__\":\"zQaZZORMGkB5knTN5DsTQC1DHOviNno/ctwpHaz/AUCLic3HtYEtQJgvL8A+OhtACoDxDBqaIkAOhGQBEzgWQICfceFAKB1AIVnABG7d/b8xsfm4NhQhwGtI3GPpQ3e/pfeNrz0z8j8ao3VUNWkyQBUA4xk0dPY/VIzzN6GQAkCXrfVFQhsUwKpla32RUPG/Qgkzbf8KFkDPg7uzdtvFP8MN+PwwsiPAYFlpUgo6GkB3+GuyRh0cwM2v5gDBHN0/jliLTwEwBUDWrZ6T3jeuP7pOIy2VNw7Am1Wfq60oMsAJM23/yioXQJfK2xFOSxrAQE0tW+uL4D9OucK7XET0v0SLbOf7mSPA/pqsUQ/R978vaYzWUZUqwDtT6LzGbirAvodLjjs9OEByUMJM2x8lwJ30vvG1Z8q/ZCMQr+sXvD+7D0BqE0cdwA==\",\"dtype\":\"float64\",\"order\":\"little\",\"shape\":[41]}},\"selected\":{\"id\":\"2112\"},\"selection_policy\":{\"id\":\"2131\"}},\"id\":\"2111\",\"type\":\"ColumnDataSource\"},{\"attributes\":{},\"id\":\"2220\",\"type\":\"Selection\"},{\"attributes\":{\"overlay\":{\"id\":\"2054\"}},\"id\":\"2052\",\"type\":\"BoxZoomTool\"},{\"attributes\":{\"data\":{\"Variable\":[\"price_change_percentage_24h\",\"price_change_percentage_24h\",\"price_change_percentage_24h\",\"price_change_percentage_24h\",\"price_change_percentage_24h\",\"price_change_percentage_24h\",\"price_change_percentage_24h\",\"price_change_percentage_24h\",\"price_change_percentage_24h\",\"price_change_percentage_24h\",\"price_change_percentage_24h\",\"price_change_percentage_24h\",\"price_change_percentage_24h\",\"price_change_percentage_24h\",\"price_change_percentage_24h\",\"price_change_percentage_24h\",\"price_change_percentage_24h\",\"price_change_percentage_24h\",\"price_change_percentage_24h\",\"price_change_percentage_24h\",\"price_change_percentage_24h\",\"price_change_percentage_24h\",\"price_change_percentage_24h\",\"price_change_percentage_24h\",\"price_change_percentage_24h\",\"price_change_percentage_24h\",\"price_change_percentage_24h\",\"price_change_percentage_24h\",\"price_change_percentage_24h\",\"price_change_percentage_24h\",\"price_change_percentage_24h\",\"price_change_percentage_24h\",\"price_change_percentage_24h\",\"price_change_percentage_24h\",\"price_change_percentage_24h\",\"price_change_percentage_24h\",\"price_change_percentage_24h\",\"price_change_percentage_24h\",\"price_change_percentage_24h\",\"price_change_percentage_24h\",\"price_change_percentage_24h\"],\"coin_id\":[\"bitcoin\",\"ethereum\",\"tether\",\"ripple\",\"bitcoin-cash\",\"binancecoin\",\"chainlink\",\"cardano\",\"litecoin\",\"bitcoin-cash-sv\",\"crypto-com-chain\",\"usd-coin\",\"eos\",\"monero\",\"tron\",\"tezos\",\"okb\",\"stellar\",\"cosmos\",\"cdai\",\"neo\",\"wrapped-bitcoin\",\"leo-token\",\"huobi-token\",\"nem\",\"binance-usd\",\"iota\",\"vechain\",\"zcash\",\"theta-token\",\"dash\",\"ethereum-classic\",\"ethlend\",\"maker\",\"havven\",\"omisego\",\"celsius-degree-token\",\"ontology\",\"ftx-token\",\"true-usd\",\"digibyte\"],\"value\":{\"__ndarray__\":\"nZ0MjpJX8T8MzXUaaanMP5mByvj3Gcu/wCZr1EM02L8ep+hILj8HQL0Yyol21QBAwhcmUwWjzr//CS5W1GBqP7JGPUSjO7C/QKTfvg6c7T8urYbEPZbjPzeJQWDl0Ma/1pC4x9KHwj87NgLxun7bP90HILWJk7M/JjYf14aK5b83iUFg5dAFwG3i5H6HIvC/5nlwd9Zu7r9i83FtqBjLP+iHEcKjjd8/M9yAzw+j8T/fGtgqweLAv+RmuAGfH9q/UdobfGEy678D7KNTVz67v8YzaOif4No/teBFX0Ga9D8G2Eenrnzjvx+duvJZPhLAoMN8eQH28L+cxCCwcmjdv667eapDDivAX5hMFYxK479EUaBP5EkQwAZkr3d/XBNA0JuKVBgbBEDqBDQRNrz1vxo09E9wseo/tI6qJoi6r79qMA3DR8QHQA==\",\"dtype\":\"float64\",\"order\":\"little\",\"shape\":[41]}},\"selected\":{\"id\":\"2069\"},\"selection_policy\":{\"id\":\"2084\"}},\"id\":\"2068\",\"type\":\"ColumnDataSource\"},{\"attributes\":{},\"id\":\"2247\",\"type\":\"UnionRenderers\"},{\"attributes\":{\"data_source\":{\"id\":\"2161\"},\"glyph\":{\"id\":\"2164\"},\"hover_glyph\":null,\"muted_glyph\":{\"id\":\"2166\"},\"nonselection_glyph\":{\"id\":\"2165\"},\"selection_glyph\":{\"id\":\"2188\"},\"view\":{\"id\":\"2168\"}},\"id\":\"2167\",\"type\":\"GlyphRenderer\"},{\"attributes\":{},\"id\":\"2084\",\"type\":\"UnionRenderers\"},{\"attributes\":{\"source\":{\"id\":\"2161\"}},\"id\":\"2168\",\"type\":\"CDSView\"},{\"attributes\":{},\"id\":\"2053\",\"type\":\"ResetTool\"},{\"attributes\":{\"data\":{\"Variable\":[\"price_change_percentage_30d\",\"price_change_percentage_30d\",\"price_change_percentage_30d\",\"price_change_percentage_30d\",\"price_change_percentage_30d\",\"price_change_percentage_30d\",\"price_change_percentage_30d\",\"price_change_percentage_30d\",\"price_change_percentage_30d\",\"price_change_percentage_30d\",\"price_change_percentage_30d\",\"price_change_percentage_30d\",\"price_change_percentage_30d\",\"price_change_percentage_30d\",\"price_change_percentage_30d\",\"price_change_percentage_30d\",\"price_change_percentage_30d\",\"price_change_percentage_30d\",\"price_change_percentage_30d\",\"price_change_percentage_30d\",\"price_change_percentage_30d\",\"price_change_percentage_30d\",\"price_change_percentage_30d\",\"price_change_percentage_30d\",\"price_change_percentage_30d\",\"price_change_percentage_30d\",\"price_change_percentage_30d\",\"price_change_percentage_30d\",\"price_change_percentage_30d\",\"price_change_percentage_30d\",\"price_change_percentage_30d\",\"price_change_percentage_30d\",\"price_change_percentage_30d\",\"price_change_percentage_30d\",\"price_change_percentage_30d\",\"price_change_percentage_30d\",\"price_change_percentage_30d\",\"price_change_percentage_30d\",\"price_change_percentage_30d\",\"price_change_percentage_30d\",\"price_change_percentage_30d\"],\"coin_id\":[\"bitcoin\",\"ethereum\",\"tether\",\"ripple\",\"bitcoin-cash\",\"binancecoin\",\"chainlink\",\"cardano\",\"litecoin\",\"bitcoin-cash-sv\",\"crypto-com-chain\",\"usd-coin\",\"eos\",\"monero\",\"tron\",\"tezos\",\"okb\",\"stellar\",\"cosmos\",\"cdai\",\"neo\",\"wrapped-bitcoin\",\"leo-token\",\"huobi-token\",\"nem\",\"binance-usd\",\"iota\",\"vechain\",\"zcash\",\"theta-token\",\"dash\",\"ethereum-classic\",\"ethlend\",\"maker\",\"havven\",\"omisego\",\"celsius-degree-token\",\"ontology\",\"ftx-token\",\"true-usd\",\"digibyte\"],\"value\":{\"__ndarray__\":\"VMa/z7iwHkAl6ZrJN9vAP/28qUiFsaW/L26jAbwFzj8dcjPcgH8vQPMf0m9fB64/5bhTOlhvJsBnfjUHCDYkQGWNeohGd/M/sCDNWDQdB0Cmft5UpHIxwJgvL8A+OsW/t0WZDTKJEsDeVKTC2HpDQEzD8BExNSnAjWK5pdVALMDjjcwjf+AkwIrIsIo3QiDAjliLTwFQEkAWpBmLpnMBwE3WqIdo9DXAVG8NbJWAHUAnMQisHJoIQGA8g4b+CQrACcTr+gU7DcCPpQ9dUN+SP80Bgjl6nBDA9S1zuixWLMBC7Eyh83odQEku/yH9bj9AtTf4wmQqH8Am/FI/byoHQNjYJaq3/j3A9GxWfa62MECdRloqb9c0wF4R/G8lOyLArK3YX3aZYUC1/SsrTVpBwP/PYb68ICXAFR3J5T+knz+ndLD+z4EqQA==\",\"dtype\":\"float64\",\"order\":\"little\",\"shape\":[41]}},\"selected\":{\"id\":\"2136\"},\"selection_policy\":{\"id\":\"2157\"}},\"id\":\"2135\",\"type\":\"ColumnDataSource\"},{\"attributes\":{\"line_alpha\":0.1,\"line_color\":\"#9467bd\",\"line_width\":2,\"x\":{\"field\":\"coin_id\"},\"y\":{\"field\":\"value\"}},\"id\":\"2223\",\"type\":\"Line\"},{\"attributes\":{\"label\":{\"value\":\"price_change_percentage_1y\"},\"renderers\":[{\"id\":\"2225\"}]},\"id\":\"2249\",\"type\":\"LegendItem\"},{\"attributes\":{\"label\":{\"value\":\"price_change_percentage_24h\"},\"renderers\":[{\"id\":\"2074\"}]},\"id\":\"2087\",\"type\":\"LegendItem\"},{\"attributes\":{\"label\":{\"value\":\"price_change_percentage_60d\"},\"renderers\":[{\"id\":\"2167\"}]},\"id\":\"2187\",\"type\":\"LegendItem\"},{\"attributes\":{\"data\":{\"Variable\":[\"price_change_percentage_60d\",\"price_change_percentage_60d\",\"price_change_percentage_60d\",\"price_change_percentage_60d\",\"price_change_percentage_60d\",\"price_change_percentage_60d\",\"price_change_percentage_60d\",\"price_change_percentage_60d\",\"price_change_percentage_60d\",\"price_change_percentage_60d\",\"price_change_percentage_60d\",\"price_change_percentage_60d\",\"price_change_percentage_60d\",\"price_change_percentage_60d\",\"price_change_percentage_60d\",\"price_change_percentage_60d\",\"price_change_percentage_60d\",\"price_change_percentage_60d\",\"price_change_percentage_60d\",\"price_change_percentage_60d\",\"price_change_percentage_60d\",\"price_change_percentage_60d\",\"price_change_percentage_60d\",\"price_change_percentage_60d\",\"price_change_percentage_60d\",\"price_change_percentage_60d\",\"price_change_percentage_60d\",\"price_change_percentage_60d\",\"price_change_percentage_60d\",\"price_change_percentage_60d\",\"price_change_percentage_60d\",\"price_change_percentage_60d\",\"price_change_percentage_60d\",\"price_change_percentage_60d\",\"price_change_percentage_60d\",\"price_change_percentage_60d\",\"price_change_percentage_60d\",\"price_change_percentage_60d\",\"price_change_percentage_60d\",\"price_change_percentage_60d\",\"price_change_percentage_60d\"],\"coin_id\":[\"bitcoin\",\"ethereum\",\"tether\",\"ripple\",\"bitcoin-cash\",\"binancecoin\",\"chainlink\",\"cardano\",\"litecoin\",\"bitcoin-cash-sv\",\"crypto-com-chain\",\"usd-coin\",\"eos\",\"monero\",\"tron\",\"tezos\",\"okb\",\"stellar\",\"cosmos\",\"cdai\",\"neo\",\"wrapped-bitcoin\",\"leo-token\",\"huobi-token\",\"nem\",\"binance-usd\",\"iota\",\"vechain\",\"zcash\",\"theta-token\",\"dash\",\"ethereum-classic\",\"ethlend\",\"maker\",\"havven\",\"omisego\",\"celsius-degree-token\",\"ontology\",\"ftx-token\",\"true-usd\",\"digibyte\"],\"value\":{\"__ndarray__\":\"FvvL7skDCsAs1JrmHccpwKjjMQOV8dE/2qz6XG2NMcBzol2FlG8rwIleRrHcKkJAN8MN+PzYRcBi26LMBtk2wCEf9GxWPTHAq5UJv9TfOMBg5dAi23kwwDygbMoV3qU/l631RUIrPsDNzMzMzNxEQJm7lpAPGhZAms5OBkdpRsBKe4MvTKYGwEsfuqC+zT7APL1SliHOHMC4AZ8fRgjlP9L7xteeCStAFqQZi6azDMCvJeSDni0ewDeOWItPQQvAXvQVpBm3VEDaOGItPgW4PwpLPKBsQkHAaw4QzNHPRcAJM23/yoo0wBmQvd79AVRAfa62Yn85OsBVGFsIcug5wLCsNCkFHQFA529CIQKeMsA0uoPYmbZDwPKwUGua0VNA/pqsUQ/ia0Ao8iTpmllAwFuxv+yenBdAmrFoOjsZ0D8s1JrmHRc/wA==\",\"dtype\":\"float64\",\"order\":\"little\",\"shape\":[41]}},\"selected\":{\"id\":\"2162\"},\"selection_policy\":{\"id\":\"2185\"}},\"id\":\"2161\",\"type\":\"ColumnDataSource\"},{\"attributes\":{\"line_color\":\"#30a2da\",\"line_width\":2,\"x\":{\"field\":\"coin_id\"},\"y\":{\"field\":\"value\"}},\"id\":\"2088\",\"type\":\"Line\"},{\"attributes\":{\"data_source\":{\"id\":\"2089\"},\"glyph\":{\"id\":\"2092\"},\"hover_glyph\":null,\"muted_glyph\":{\"id\":\"2094\"},\"nonselection_glyph\":{\"id\":\"2093\"},\"selection_glyph\":{\"id\":\"2110\"},\"view\":{\"id\":\"2096\"}},\"id\":\"2095\",\"type\":\"GlyphRenderer\"},{\"attributes\":{\"callback\":null,\"renderers\":[{\"id\":\"2074\"},{\"id\":\"2095\"},{\"id\":\"2117\"},{\"id\":\"2141\"},{\"id\":\"2167\"},{\"id\":\"2195\"},{\"id\":\"2225\"}],\"tags\":[\"hv_created\"],\"tooltips\":[[\"Variable\",\"@{Variable}\"],[\"coin_id\",\"@{coin_id}\"],[\"value\",\"@{value}\"]]},\"id\":\"2026\",\"type\":\"HoverTool\"},{\"attributes\":{\"line_color\":\"#8b8b8b\",\"line_width\":2,\"x\":{\"field\":\"coin_id\"},\"y\":{\"field\":\"value\"}},\"id\":\"2188\",\"type\":\"Line\"},{\"attributes\":{\"line_alpha\":0.1,\"line_color\":\"#30a2da\",\"line_width\":2,\"x\":{\"field\":\"coin_id\"},\"y\":{\"field\":\"value\"}},\"id\":\"2072\",\"type\":\"Line\"},{\"attributes\":{},\"id\":\"2185\",\"type\":\"UnionRenderers\"},{\"attributes\":{},\"id\":\"2162\",\"type\":\"Selection\"},{\"attributes\":{\"line_alpha\":0.2,\"line_color\":\"#9467bd\",\"line_width\":2,\"x\":{\"field\":\"coin_id\"},\"y\":{\"field\":\"value\"}},\"id\":\"2224\",\"type\":\"Line\"},{\"attributes\":{},\"id\":\"2190\",\"type\":\"Selection\"},{\"attributes\":{\"line_alpha\":0.1,\"line_color\":\"#8b8b8b\",\"line_width\":2,\"x\":{\"field\":\"coin_id\"},\"y\":{\"field\":\"value\"}},\"id\":\"2165\",\"type\":\"Line\"},{\"attributes\":{\"label\":{\"value\":\"price_change_percentage_30d\"},\"renderers\":[{\"id\":\"2141\"}]},\"id\":\"2159\",\"type\":\"LegendItem\"},{\"attributes\":{\"line_alpha\":0.2,\"line_color\":\"#8b8b8b\",\"line_width\":2,\"x\":{\"field\":\"coin_id\"},\"y\":{\"field\":\"value\"}},\"id\":\"2166\",\"type\":\"Line\"},{\"attributes\":{},\"id\":\"2136\",\"type\":\"Selection\"},{\"attributes\":{\"line_alpha\":0.2,\"line_color\":\"#30a2da\",\"line_width\":2,\"x\":{\"field\":\"coin_id\"},\"y\":{\"field\":\"value\"}},\"id\":\"2073\",\"type\":\"Line\"},{\"attributes\":{\"label\":{\"value\":\"price_change_percentage_200d\"},\"renderers\":[{\"id\":\"2195\"}]},\"id\":\"2217\",\"type\":\"LegendItem\"},{\"attributes\":{\"below\":[{\"id\":\"2042\"}],\"center\":[{\"id\":\"2044\"},{\"id\":\"2048\"}],\"height\":400,\"left\":[{\"id\":\"2045\"}],\"margin\":[5,5,5,5],\"min_border_bottom\":10,\"min_border_left\":10,\"min_border_right\":10,\"min_border_top\":10,\"renderers\":[{\"id\":\"2074\"},{\"id\":\"2095\"},{\"id\":\"2117\"},{\"id\":\"2141\"},{\"id\":\"2167\"},{\"id\":\"2195\"},{\"id\":\"2225\"}],\"right\":[{\"id\":\"2086\"}],\"sizing_mode\":\"fixed\",\"title\":{\"id\":\"2034\"},\"toolbar\":{\"id\":\"2055\"},\"width\":800,\"x_range\":{\"id\":\"2024\"},\"x_scale\":{\"id\":\"2038\"},\"y_range\":{\"id\":\"2025\"},\"y_scale\":{\"id\":\"2040\"}},\"id\":\"2033\",\"subtype\":\"Figure\",\"type\":\"Plot\"},{\"attributes\":{\"line_color\":\"#6d904f\",\"line_width\":2,\"x\":{\"field\":\"coin_id\"},\"y\":{\"field\":\"value\"}},\"id\":\"2138\",\"type\":\"Line\"},{\"attributes\":{\"data\":{\"Variable\":[\"price_change_percentage_200d\",\"price_change_percentage_200d\",\"price_change_percentage_200d\",\"price_change_percentage_200d\",\"price_change_percentage_200d\",\"price_change_percentage_200d\",\"price_change_percentage_200d\",\"price_change_percentage_200d\",\"price_change_percentage_200d\",\"price_change_percentage_200d\",\"price_change_percentage_200d\",\"price_change_percentage_200d\",\"price_change_percentage_200d\",\"price_change_percentage_200d\",\"price_change_percentage_200d\",\"price_change_percentage_200d\",\"price_change_percentage_200d\",\"price_change_percentage_200d\",\"price_change_percentage_200d\",\"price_change_percentage_200d\",\"price_change_percentage_200d\",\"price_change_percentage_200d\",\"price_change_percentage_200d\",\"price_change_percentage_200d\",\"price_change_percentage_200d\",\"price_change_percentage_200d\",\"price_change_percentage_200d\",\"price_change_percentage_200d\",\"price_change_percentage_200d\",\"price_change_percentage_200d\",\"price_change_percentage_200d\",\"price_change_percentage_200d\",\"price_change_percentage_200d\",\"price_change_percentage_200d\",\"price_change_percentage_200d\",\"price_change_percentage_200d\",\"price_change_percentage_200d\",\"price_change_percentage_200d\",\"price_change_percentage_200d\",\"price_change_percentage_200d\",\"price_change_percentage_200d\"],\"coin_id\":[\"bitcoin\",\"ethereum\",\"tether\",\"ripple\",\"bitcoin-cash\",\"binancecoin\",\"chainlink\",\"cardano\",\"litecoin\",\"bitcoin-cash-sv\",\"crypto-com-chain\",\"usd-coin\",\"eos\",\"monero\",\"tron\",\"tezos\",\"okb\",\"stellar\",\"cosmos\",\"cdai\",\"neo\",\"wrapped-bitcoin\",\"leo-token\",\"huobi-token\",\"nem\",\"binance-usd\",\"iota\",\"vechain\",\"zcash\",\"theta-token\",\"dash\",\"ethereum-classic\",\"ethlend\",\"maker\",\"havven\",\"omisego\",\"celsius-degree-token\",\"ontology\",\"ftx-token\",\"true-usd\",\"digibyte\"],\"value\":{\"__ndarray__\":\"xY8xdy3hVED0piIVxlhnQBe86CtIM3a/9zsUBfrEQ0DTn/1IEak1QPTDCOHRc2NAl3MprqozeUAexM4UOohwQIB9dOrKfztAFhiyutWzHUCN7iB2plZsQIQqNXugFcS/ZHWr56QPMkALe9rhrzBlQH+8V61MnGBA5nlwd9a2RUARHm0csfpDQC+Lic3HJ1VAkj8YeO4/Z0AOvjCZKhjZv2vUQzS61GNAtRX7y+75VEC5GW7A52cwQAPso1NXHkVAKa4q+64Fa0A7NgLxun65P+TaUDHOwVdAyM1wAz7bcEAFwHgGDaNeQH3Qs1k1lYtAOUVHcvnvGEANGvonuMgkQCYZOQvbZ6FAGD4ipkSiVED5MeauZXeDQHi0ccQaSoJAC170FcTYmEB1PGagMmJLQC2yne+nvkxAndfYJaq3tr9R9wFIbSl+QA==\",\"dtype\":\"float64\",\"order\":\"little\",\"shape\":[41]}},\"selected\":{\"id\":\"2190\"},\"selection_policy\":{\"id\":\"2215\"}},\"id\":\"2189\",\"type\":\"ColumnDataSource\"},{\"attributes\":{},\"id\":\"2131\",\"type\":\"UnionRenderers\"},{\"attributes\":{\"bottom_units\":\"screen\",\"fill_alpha\":0.5,\"fill_color\":\"lightgrey\",\"left_units\":\"screen\",\"level\":\"overlay\",\"line_alpha\":1.0,\"line_color\":\"black\",\"line_dash\":[4,4],\"line_width\":2,\"right_units\":\"screen\",\"syncable\":false,\"top_units\":\"screen\"},\"id\":\"2054\",\"type\":\"BoxAnnotation\"},{\"attributes\":{\"line_color\":\"#6d904f\",\"line_width\":2,\"x\":{\"field\":\"coin_id\"},\"y\":{\"field\":\"value\"}},\"id\":\"2160\",\"type\":\"Line\"},{\"attributes\":{\"end\":8641.780918,\"reset_end\":8641.780918,\"reset_start\":-834.5136980000001,\"start\":-834.5136980000001,\"tags\":[[[\"value\",\"value\",null]]]},\"id\":\"2025\",\"type\":\"Range1d\"},{\"attributes\":{\"active_multi\":null,\"tools\":[{\"id\":\"2026\"},{\"id\":\"2049\"},{\"id\":\"2050\"},{\"id\":\"2051\"},{\"id\":\"2052\"},{\"id\":\"2053\"}]},\"id\":\"2055\",\"type\":\"Toolbar\"},{\"attributes\":{\"source\":{\"id\":\"2135\"}},\"id\":\"2142\",\"type\":\"CDSView\"},{\"attributes\":{},\"id\":\"2090\",\"type\":\"Selection\"},{\"attributes\":{\"line_color\":\"#17becf\",\"line_width\":2,\"x\":{\"field\":\"coin_id\"},\"y\":{\"field\":\"value\"}},\"id\":\"2218\",\"type\":\"Line\"},{\"attributes\":{\"line_alpha\":0.1,\"line_color\":\"#fc4f30\",\"line_width\":2,\"x\":{\"field\":\"coin_id\"},\"y\":{\"field\":\"value\"}},\"id\":\"2093\",\"type\":\"Line\"},{\"attributes\":{\"line_alpha\":0.2,\"line_color\":\"#6d904f\",\"line_width\":2,\"x\":{\"field\":\"coin_id\"},\"y\":{\"field\":\"value\"}},\"id\":\"2140\",\"type\":\"Line\"},{\"attributes\":{\"data_source\":{\"id\":\"2135\"},\"glyph\":{\"id\":\"2138\"},\"hover_glyph\":null,\"muted_glyph\":{\"id\":\"2140\"},\"nonselection_glyph\":{\"id\":\"2139\"},\"selection_glyph\":{\"id\":\"2160\"},\"view\":{\"id\":\"2142\"}},\"id\":\"2141\",\"type\":\"GlyphRenderer\"},{\"attributes\":{},\"id\":\"2050\",\"type\":\"PanTool\"},{\"attributes\":{\"data_source\":{\"id\":\"2068\"},\"glyph\":{\"id\":\"2071\"},\"hover_glyph\":null,\"muted_glyph\":{\"id\":\"2073\"},\"nonselection_glyph\":{\"id\":\"2072\"},\"selection_glyph\":{\"id\":\"2088\"},\"view\":{\"id\":\"2075\"}},\"id\":\"2074\",\"type\":\"GlyphRenderer\"},{\"attributes\":{},\"id\":\"2064\",\"type\":\"AllLabels\"},{\"attributes\":{\"line_alpha\":0.1,\"line_color\":\"#17becf\",\"line_width\":2,\"x\":{\"field\":\"coin_id\"},\"y\":{\"field\":\"value\"}},\"id\":\"2193\",\"type\":\"Line\"},{\"attributes\":{\"click_policy\":\"mute\",\"items\":[{\"id\":\"2087\"},{\"id\":\"2109\"},{\"id\":\"2133\"},{\"id\":\"2159\"},{\"id\":\"2187\"},{\"id\":\"2217\"},{\"id\":\"2249\"}],\"location\":[0,0],\"title\":\"Variable\"},\"id\":\"2086\",\"type\":\"Legend\"},{\"attributes\":{\"children\":[{\"id\":\"2023\"},{\"id\":\"2033\"},{\"id\":\"2449\"}],\"margin\":[0,0,0,0],\"name\":\"Row03998\",\"tags\":[\"embedded\"]},\"id\":\"2022\",\"type\":\"Row\"},{\"attributes\":{\"line_alpha\":0.1,\"line_color\":\"#e5ae38\",\"line_width\":2,\"x\":{\"field\":\"coin_id\"},\"y\":{\"field\":\"value\"}},\"id\":\"2115\",\"type\":\"Line\"},{\"attributes\":{\"axis\":{\"id\":\"2045\"},\"dimension\":1,\"grid_line_color\":null,\"ticker\":null},\"id\":\"2048\",\"type\":\"Grid\"},{\"attributes\":{},\"id\":\"2038\",\"type\":\"CategoricalScale\"},{\"attributes\":{\"source\":{\"id\":\"2189\"}},\"id\":\"2196\",\"type\":\"CDSView\"},{\"attributes\":{},\"id\":\"2157\",\"type\":\"UnionRenderers\"},{\"attributes\":{\"data_source\":{\"id\":\"2111\"},\"glyph\":{\"id\":\"2114\"},\"hover_glyph\":null,\"muted_glyph\":{\"id\":\"2116\"},\"nonselection_glyph\":{\"id\":\"2115\"},\"selection_glyph\":{\"id\":\"2134\"},\"view\":{\"id\":\"2118\"}},\"id\":\"2117\",\"type\":\"GlyphRenderer\"},{\"attributes\":{\"data\":{\"Variable\":[\"price_change_percentage_7d\",\"price_change_percentage_7d\",\"price_change_percentage_7d\",\"price_change_percentage_7d\",\"price_change_percentage_7d\",\"price_change_percentage_7d\",\"price_change_percentage_7d\",\"price_change_percentage_7d\",\"price_change_percentage_7d\",\"price_change_percentage_7d\",\"price_change_percentage_7d\",\"price_change_percentage_7d\",\"price_change_percentage_7d\",\"price_change_percentage_7d\",\"price_change_percentage_7d\",\"price_change_percentage_7d\",\"price_change_percentage_7d\",\"price_change_percentage_7d\",\"price_change_percentage_7d\",\"price_change_percentage_7d\",\"price_change_percentage_7d\",\"price_change_percentage_7d\",\"price_change_percentage_7d\",\"price_change_percentage_7d\",\"price_change_percentage_7d\",\"price_change_percentage_7d\",\"price_change_percentage_7d\",\"price_change_percentage_7d\",\"price_change_percentage_7d\",\"price_change_percentage_7d\",\"price_change_percentage_7d\",\"price_change_percentage_7d\",\"price_change_percentage_7d\",\"price_change_percentage_7d\",\"price_change_percentage_7d\",\"price_change_percentage_7d\",\"price_change_percentage_7d\",\"price_change_percentage_7d\",\"price_change_percentage_7d\",\"price_change_percentage_7d\",\"price_change_percentage_7d\"],\"coin_id\":[\"bitcoin\",\"ethereum\",\"tether\",\"ripple\",\"bitcoin-cash\",\"binancecoin\",\"chainlink\",\"cardano\",\"litecoin\",\"bitcoin-cash-sv\",\"crypto-com-chain\",\"usd-coin\",\"eos\",\"monero\",\"tron\",\"tezos\",\"okb\",\"stellar\",\"cosmos\",\"cdai\",\"neo\",\"wrapped-bitcoin\",\"leo-token\",\"huobi-token\",\"nem\",\"binance-usd\",\"iota\",\"vechain\",\"zcash\",\"theta-token\",\"dash\",\"ethereum-classic\",\"ethlend\",\"maker\",\"havven\",\"omisego\",\"celsius-degree-token\",\"ontology\",\"ftx-token\",\"true-usd\",\"digibyte\"],\"value\":{\"__ndarray__\":\"RbsKKT9pHkAzUBn/PsMkQL99HThnRKk/yVnY0w5/47/+JhQi4BgxQBL3WPrQtSlA7yB2ptCxNEA/jBAebfwrQPFL/bypaBpArKjBNAxfCkByv0NRoK8WwPlJtU/HY76/lPsdigL99L+n6Egu/5EvQE1KQbeX9BBA0m9fB87pIUBlU67wLjcSwKbtX1lpkgBAZwqd19gVMEBcIEHxY8ytP3wnZr0YigNAOh4zUBmfHUD3Hi457pT1vzNQGf8+4/k/kQ96Nqs+6781Y9F0djKoP2dEaW/wRRhAgXhdv2A3/L/8GHPXErIkQP8JLlbUYBjAVU0QdR9gFEDRlnMprmoIQGCrBIvD2RBAAiuHFtlOIECbG9MTllgRQKhXyjLEURtAqn06HjNQ4z+UvDrHgGzzvwltOZfiahxAsD2zJEBNxT8yj/zBwHPlPw==\",\"dtype\":\"float64\",\"order\":\"little\",\"shape\":[41]}},\"selected\":{\"id\":\"2090\"},\"selection_policy\":{\"id\":\"2107\"}},\"id\":\"2089\",\"type\":\"ColumnDataSource\"},{\"attributes\":{\"line_alpha\":0.2,\"line_color\":\"#fc4f30\",\"line_width\":2,\"x\":{\"field\":\"coin_id\"},\"y\":{\"field\":\"value\"}},\"id\":\"2094\",\"type\":\"Line\"},{\"attributes\":{},\"id\":\"2043\",\"type\":\"CategoricalTicker\"},{\"attributes\":{},\"id\":\"2112\",\"type\":\"Selection\"},{\"attributes\":{\"line_color\":\"#fc4f30\",\"line_width\":2,\"x\":{\"field\":\"coin_id\"},\"y\":{\"field\":\"value\"}},\"id\":\"2092\",\"type\":\"Line\"},{\"attributes\":{\"line_alpha\":0.1,\"line_color\":\"#6d904f\",\"line_width\":2,\"x\":{\"field\":\"coin_id\"},\"y\":{\"field\":\"value\"}},\"id\":\"2139\",\"type\":\"Line\"},{\"attributes\":{\"axis_label\":\"coin_id\",\"formatter\":{\"id\":\"2063\"},\"major_label_orientation\":1.5707963267948966,\"major_label_policy\":{\"id\":\"2064\"},\"ticker\":{\"id\":\"2043\"}},\"id\":\"2042\",\"type\":\"CategoricalAxis\"},{\"attributes\":{\"line_alpha\":0.2,\"line_color\":\"#17becf\",\"line_width\":2,\"x\":{\"field\":\"coin_id\"},\"y\":{\"field\":\"value\"}},\"id\":\"2194\",\"type\":\"Line\"},{\"attributes\":{\"source\":{\"id\":\"2089\"}},\"id\":\"2096\",\"type\":\"CDSView\"},{\"attributes\":{},\"id\":\"2040\",\"type\":\"LinearScale\"},{\"attributes\":{\"text_color\":\"black\",\"text_font_size\":\"12pt\"},\"id\":\"2034\",\"type\":\"Title\"},{\"attributes\":{\"line_color\":\"#17becf\",\"line_width\":2,\"x\":{\"field\":\"coin_id\"},\"y\":{\"field\":\"value\"}},\"id\":\"2192\",\"type\":\"Line\"},{\"attributes\":{\"source\":{\"id\":\"2219\"}},\"id\":\"2226\",\"type\":\"CDSView\"},{\"attributes\":{\"label\":{\"value\":\"price_change_percentage_7d\"},\"renderers\":[{\"id\":\"2095\"}]},\"id\":\"2109\",\"type\":\"LegendItem\"},{\"attributes\":{\"axis\":{\"id\":\"2042\"},\"grid_line_color\":null,\"ticker\":null},\"id\":\"2044\",\"type\":\"Grid\"},{\"attributes\":{},\"id\":\"2046\",\"type\":\"BasicTicker\"},{\"attributes\":{\"axis_label\":\"\",\"formatter\":{\"id\":\"2067\"},\"major_label_policy\":{\"id\":\"2065\"},\"ticker\":{\"id\":\"2046\"}},\"id\":\"2045\",\"type\":\"LinearAxis\"},{\"attributes\":{},\"id\":\"2215\",\"type\":\"UnionRenderers\"},{\"attributes\":{},\"id\":\"2107\",\"type\":\"UnionRenderers\"},{\"attributes\":{\"label\":{\"value\":\"price_change_percentage_14d\"},\"renderers\":[{\"id\":\"2117\"}]},\"id\":\"2133\",\"type\":\"LegendItem\"},{\"attributes\":{\"data\":{\"Variable\":[\"price_change_percentage_1y\",\"price_change_percentage_1y\",\"price_change_percentage_1y\",\"price_change_percentage_1y\",\"price_change_percentage_1y\",\"price_change_percentage_1y\",\"price_change_percentage_1y\",\"price_change_percentage_1y\",\"price_change_percentage_1y\",\"price_change_percentage_1y\",\"price_change_percentage_1y\",\"price_change_percentage_1y\",\"price_change_percentage_1y\",\"price_change_percentage_1y\",\"price_change_percentage_1y\",\"price_change_percentage_1y\",\"price_change_percentage_1y\",\"price_change_percentage_1y\",\"price_change_percentage_1y\",\"price_change_percentage_1y\",\"price_change_percentage_1y\",\"price_change_percentage_1y\",\"price_change_percentage_1y\",\"price_change_percentage_1y\",\"price_change_percentage_1y\",\"price_change_percentage_1y\",\"price_change_percentage_1y\",\"price_change_percentage_1y\",\"price_change_percentage_1y\",\"price_change_percentage_1y\",\"price_change_percentage_1y\",\"price_change_percentage_1y\",\"price_change_percentage_1y\",\"price_change_percentage_1y\",\"price_change_percentage_1y\",\"price_change_percentage_1y\",\"price_change_percentage_1y\",\"price_change_percentage_1y\",\"price_change_percentage_1y\",\"price_change_percentage_1y\",\"price_change_percentage_1y\"],\"coin_id\":[\"bitcoin\",\"ethereum\",\"tether\",\"ripple\",\"bitcoin-cash\",\"binancecoin\",\"chainlink\",\"cardano\",\"litecoin\",\"bitcoin-cash-sv\",\"crypto-com-chain\",\"usd-coin\",\"eos\",\"monero\",\"tron\",\"tezos\",\"okb\",\"stellar\",\"cosmos\",\"cdai\",\"neo\",\"wrapped-bitcoin\",\"leo-token\",\"huobi-token\",\"nem\",\"binance-usd\",\"iota\",\"vechain\",\"zcash\",\"theta-token\",\"dash\",\"ethereum-classic\",\"ethlend\",\"maker\",\"havven\",\"omisego\",\"celsius-degree-token\",\"ontology\",\"ftx-token\",\"true-usd\",\"digibyte\"],\"value\":{\"__ndarray__\":\"kQpjC0HCQkDWqIdodH1ZQN/42jNLApQ/NXugFRiaMMDN6bKY2PwsQOcdp+hIbFFAaTo7GRxSdEC6LCY2H4NjQPnaM0sCVCnA0NA/wcVuV0CQvd798RBzQL4wmSoYlci/t39lpUmRMcDovMYuUaFhQEPKT6p9nk1A6PaSxmiAYUBdUN8yp75hQMzuycNCnStAw7ZFmQ2cVEAHsTOFzmvSvx/0bFZ9aWBAhhvw+WHEQkAN/RNcrAA1QN8Vwf9WkjhAS7A4nPkWaUAVUn5S7dPBPzUk7rH04Q/AIsMq3shbaUBf0hito7hUQPyMCwcC64VAzsKedvirA8Dwoq8gzTgmQHRGlPYWrL5Ayk+qfTpOJUDfiVkvRjaFQEfJq3MMC3RAnFCIgONmn0CsVib8Uk8pwNttF5rrC2VAyXGndLD+2T/ZfFwbKgxnQA==\",\"dtype\":\"float64\",\"order\":\"little\",\"shape\":[41]}},\"selected\":{\"id\":\"2220\"},\"selection_policy\":{\"id\":\"2247\"}},\"id\":\"2219\",\"type\":\"ColumnDataSource\"},{\"attributes\":{\"line_color\":\"#9467bd\",\"line_width\":2,\"x\":{\"field\":\"coin_id\"},\"y\":{\"field\":\"value\"}},\"id\":\"2222\",\"type\":\"Line\"},{\"attributes\":{},\"id\":\"2069\",\"type\":\"Selection\"},{\"attributes\":{\"line_color\":\"#e5ae38\",\"line_width\":2,\"x\":{\"field\":\"coin_id\"},\"y\":{\"field\":\"value\"}},\"id\":\"2134\",\"type\":\"Line\"},{\"attributes\":{\"source\":{\"id\":\"2068\"}},\"id\":\"2075\",\"type\":\"CDSView\"},{\"attributes\":{},\"id\":\"2065\",\"type\":\"AllLabels\"},{\"attributes\":{\"factors\":[\"bitcoin\",\"ethereum\",\"tether\",\"ripple\",\"bitcoin-cash\",\"binancecoin\",\"chainlink\",\"cardano\",\"litecoin\",\"bitcoin-cash-sv\",\"crypto-com-chain\",\"usd-coin\",\"eos\",\"monero\",\"tron\",\"tezos\",\"okb\",\"stellar\",\"cosmos\",\"cdai\",\"neo\",\"wrapped-bitcoin\",\"leo-token\",\"huobi-token\",\"nem\",\"binance-usd\",\"iota\",\"vechain\",\"zcash\",\"theta-token\",\"dash\",\"ethereum-classic\",\"ethlend\",\"maker\",\"havven\",\"omisego\",\"celsius-degree-token\",\"ontology\",\"ftx-token\",\"true-usd\",\"digibyte\"],\"tags\":[[[\"coin_id\",\"coin_id\",null]]]},\"id\":\"2024\",\"type\":\"FactorRange\"},{\"attributes\":{\"line_alpha\":0.2,\"line_color\":\"#e5ae38\",\"line_width\":2,\"x\":{\"field\":\"coin_id\"},\"y\":{\"field\":\"value\"}},\"id\":\"2116\",\"type\":\"Line\"},{\"attributes\":{\"line_color\":\"#e5ae38\",\"line_width\":2,\"x\":{\"field\":\"coin_id\"},\"y\":{\"field\":\"value\"}},\"id\":\"2114\",\"type\":\"Line\"},{\"attributes\":{\"margin\":[5,5,5,5],\"name\":\"HSpacer04003\",\"sizing_mode\":\"stretch_width\"},\"id\":\"2449\",\"type\":\"Spacer\"},{\"attributes\":{\"margin\":[5,5,5,5],\"name\":\"HSpacer04002\",\"sizing_mode\":\"stretch_width\"},\"id\":\"2023\",\"type\":\"Spacer\"},{\"attributes\":{},\"id\":\"2063\",\"type\":\"CategoricalTickFormatter\"},{\"attributes\":{\"source\":{\"id\":\"2111\"}},\"id\":\"2118\",\"type\":\"CDSView\"},{\"attributes\":{\"line_color\":\"#fc4f30\",\"line_width\":2,\"x\":{\"field\":\"coin_id\"},\"y\":{\"field\":\"value\"}},\"id\":\"2110\",\"type\":\"Line\"},{\"attributes\":{\"line_color\":\"#9467bd\",\"line_width\":2,\"x\":{\"field\":\"coin_id\"},\"y\":{\"field\":\"value\"}},\"id\":\"2250\",\"type\":\"Line\"},{\"attributes\":{},\"id\":\"2067\",\"type\":\"BasicTickFormatter\"},{\"attributes\":{},\"id\":\"2049\",\"type\":\"SaveTool\"},{\"attributes\":{\"data_source\":{\"id\":\"2189\"},\"glyph\":{\"id\":\"2192\"},\"hover_glyph\":null,\"muted_glyph\":{\"id\":\"2194\"},\"nonselection_glyph\":{\"id\":\"2193\"},\"selection_glyph\":{\"id\":\"2218\"},\"view\":{\"id\":\"2196\"}},\"id\":\"2195\",\"type\":\"GlyphRenderer\"},{\"attributes\":{\"line_color\":\"#30a2da\",\"line_width\":2,\"x\":{\"field\":\"coin_id\"},\"y\":{\"field\":\"value\"}},\"id\":\"2071\",\"type\":\"Line\"}],\"root_ids\":[\"2022\"]},\"title\":\"Bokeh Application\",\"version\":\"2.3.2\"}};\n",
       "    var render_items = [{\"docid\":\"aa3a4b87-4198-45e3-a67a-6313e8f48afc\",\"root_ids\":[\"2022\"],\"roots\":{\"2022\":\"c3e4241c-c8d9-456a-b481-39bf7cb541a5\"}}];\n",
       "    root.Bokeh.embed.embed_items_notebook(docs_json, render_items);\n",
       "  }\n",
       "  if (root.Bokeh !== undefined && root.Bokeh.Panel !== undefined) {\n",
       "    embed_document(root);\n",
       "  } else {\n",
       "    var attempts = 0;\n",
       "    var timer = setInterval(function(root) {\n",
       "      if (root.Bokeh !== undefined && root.Bokeh.Panel !== undefined) {\n",
       "        clearInterval(timer);\n",
       "        embed_document(root);\n",
       "      } else if (document.readyState == \"complete\") {\n",
       "        attempts++;\n",
       "        if (attempts > 100) {\n",
       "          clearInterval(timer);\n",
       "          console.log(\"Bokeh: ERROR: Unable to run BokehJS code because BokehJS library is missing\");\n",
       "        }\n",
       "      }\n",
       "    }, 10, root)\n",
       "  }\n",
       "})(window);</script>"
      ],
      "text/plain": [
       ":NdOverlay   [Variable]\n",
       "   :Curve   [coin_id]   (value)"
      ]
     },
     "execution_count": 45,
     "metadata": {
      "application/vnd.holoviews_exec.v0+json": {
       "id": "2022"
      }
     },
     "output_type": "execute_result"
    }
   ],
   "source": [
    "# Plot your data to see what's in your DataFrame\n",
    "df_market_data.hvplot.line(\n",
    "    width=800,\n",
    "    height=400,\n",
    "    rot=90\n",
    ")"
   ]
  },
  {
   "cell_type": "markdown",
   "metadata": {},
   "source": [
    "### Prepare the Data\n",
    "\n",
    "This section prepares the data before running the K-Means algorithm. It follows these steps:\n",
    "\n",
    "1. Use the `StandardScaler` module from scikit-learn to normalize the CSV file data. This will require you to utilize the `fit_transform` function.\n",
    "\n",
    "2. Create a DataFrame that contains the scaled data. Be sure to set the `coin_id` index from the original DataFrame as the index for the new DataFrame. Review the resulting DataFrame.\n"
   ]
  },
  {
   "cell_type": "code",
   "execution_count": 46,
   "metadata": {},
   "outputs": [],
   "source": [
    "# Use the `StandardScaler()` module from scikit-learn to normalize the data from the CSV file\n",
    "scaled_data = StandardScaler().fit_transform(df_market_data)"
   ]
  },
  {
   "cell_type": "code",
   "execution_count": 47,
   "metadata": {},
   "outputs": [
    {
     "data": {
      "text/html": [
       "<div>\n",
       "<style scoped>\n",
       "    .dataframe tbody tr th:only-of-type {\n",
       "        vertical-align: middle;\n",
       "    }\n",
       "\n",
       "    .dataframe tbody tr th {\n",
       "        vertical-align: top;\n",
       "    }\n",
       "\n",
       "    .dataframe thead th {\n",
       "        text-align: right;\n",
       "    }\n",
       "</style>\n",
       "<table border=\"1\" class=\"dataframe\">\n",
       "  <thead>\n",
       "    <tr style=\"text-align: right;\">\n",
       "      <th></th>\n",
       "      <th>price_change_percentage_24h</th>\n",
       "      <th>price_change_percentage_7d</th>\n",
       "      <th>price_change_percentage_14d</th>\n",
       "      <th>price_change_percentage_30d</th>\n",
       "      <th>price_change_percentage_60d</th>\n",
       "      <th>price_change_percentage_200d</th>\n",
       "      <th>price_change_percentage_1y</th>\n",
       "    </tr>\n",
       "    <tr>\n",
       "      <th>coin_id</th>\n",
       "      <th></th>\n",
       "      <th></th>\n",
       "      <th></th>\n",
       "      <th></th>\n",
       "      <th></th>\n",
       "      <th></th>\n",
       "      <th></th>\n",
       "    </tr>\n",
       "  </thead>\n",
       "  <tbody>\n",
       "    <tr>\n",
       "      <th>bitcoin</th>\n",
       "      <td>0.508529</td>\n",
       "      <td>0.493193</td>\n",
       "      <td>0.772200</td>\n",
       "      <td>0.235460</td>\n",
       "      <td>-0.067495</td>\n",
       "      <td>-0.355953</td>\n",
       "      <td>-0.251637</td>\n",
       "    </tr>\n",
       "    <tr>\n",
       "      <th>ethereum</th>\n",
       "      <td>0.185446</td>\n",
       "      <td>0.934445</td>\n",
       "      <td>0.558692</td>\n",
       "      <td>-0.054341</td>\n",
       "      <td>-0.273483</td>\n",
       "      <td>-0.115759</td>\n",
       "      <td>-0.199352</td>\n",
       "    </tr>\n",
       "    <tr>\n",
       "      <th>tether</th>\n",
       "      <td>0.021774</td>\n",
       "      <td>-0.706337</td>\n",
       "      <td>-0.021680</td>\n",
       "      <td>-0.061030</td>\n",
       "      <td>0.008005</td>\n",
       "      <td>-0.550247</td>\n",
       "      <td>-0.282061</td>\n",
       "    </tr>\n",
       "    <tr>\n",
       "      <th>ripple</th>\n",
       "      <td>-0.040764</td>\n",
       "      <td>-0.810928</td>\n",
       "      <td>0.249458</td>\n",
       "      <td>-0.050388</td>\n",
       "      <td>-0.373164</td>\n",
       "      <td>-0.458259</td>\n",
       "      <td>-0.295546</td>\n",
       "    </tr>\n",
       "    <tr>\n",
       "      <th>bitcoin-cash</th>\n",
       "      <td>1.193036</td>\n",
       "      <td>2.000959</td>\n",
       "      <td>1.760610</td>\n",
       "      <td>0.545842</td>\n",
       "      <td>-0.291203</td>\n",
       "      <td>-0.499848</td>\n",
       "      <td>-0.270317</td>\n",
       "    </tr>\n",
       "  </tbody>\n",
       "</table>\n",
       "</div>"
      ],
      "text/plain": [
       "              price_change_percentage_24h  price_change_percentage_7d  \\\n",
       "coin_id                                                                 \n",
       "bitcoin                          0.508529                    0.493193   \n",
       "ethereum                         0.185446                    0.934445   \n",
       "tether                           0.021774                   -0.706337   \n",
       "ripple                          -0.040764                   -0.810928   \n",
       "bitcoin-cash                     1.193036                    2.000959   \n",
       "\n",
       "              price_change_percentage_14d  price_change_percentage_30d  \\\n",
       "coin_id                                                                  \n",
       "bitcoin                          0.772200                     0.235460   \n",
       "ethereum                         0.558692                    -0.054341   \n",
       "tether                          -0.021680                    -0.061030   \n",
       "ripple                           0.249458                    -0.050388   \n",
       "bitcoin-cash                     1.760610                     0.545842   \n",
       "\n",
       "              price_change_percentage_60d  price_change_percentage_200d  \\\n",
       "coin_id                                                                   \n",
       "bitcoin                         -0.067495                     -0.355953   \n",
       "ethereum                        -0.273483                     -0.115759   \n",
       "tether                           0.008005                     -0.550247   \n",
       "ripple                          -0.373164                     -0.458259   \n",
       "bitcoin-cash                    -0.291203                     -0.499848   \n",
       "\n",
       "              price_change_percentage_1y  \n",
       "coin_id                                   \n",
       "bitcoin                        -0.251637  \n",
       "ethereum                       -0.199352  \n",
       "tether                         -0.282061  \n",
       "ripple                         -0.295546  \n",
       "bitcoin-cash                   -0.270317  "
      ]
     },
     "execution_count": 47,
     "metadata": {},
     "output_type": "execute_result"
    }
   ],
   "source": [
    "# Create a DataFrame with the scaled data\n",
    "df_market_data_scaled = pd.DataFrame(\n",
    "    scaled_data,\n",
    "    columns=df_market_data.columns\n",
    ")\n",
    "\n",
    "# Copy the crypto names from the original data\n",
    "df_market_data_scaled[\"coin_id\"] = df_market_data.index\n",
    "\n",
    "# Set the coinid column as index\n",
    "df_market_data_scaled = df_market_data_scaled.set_index(\"coin_id\")\n",
    "\n",
    "# Display sample data\n",
    "df_market_data_scaled.head()"
   ]
  },
  {
   "cell_type": "markdown",
   "metadata": {},
   "source": [
    "---"
   ]
  },
  {
   "cell_type": "markdown",
   "metadata": {},
   "source": [
    "# Cluster Cryptocurrencies with K-means\n",
    "\n",
    "In this section, you will use the K-Means algorithm with a given value for `k` to cluster the cryptocurrencies according to the price changes of cryptocurrencies provided.\n",
    "\n",
    "1. Initialize the K-Means model with four clusters (`n_clusters=4`). \n",
    "\n",
    "2. Fit the K-Means model using the scaled data.\n",
    "\n",
    "3. Predict the clusters to group the cryptocurrencies using the scaled data. View the resulting array of cluster values.\n",
    "\n",
    "4. Add a new column to the DataFrame with the scaled data with the predicted clusters.\n",
    "\n",
    "5. Create a scatter plot using hvPlot by setting `x=\"price_change_percentage_14d\"` and `y=\"price_change_percentage_1y\"`. Color the graph points with the labels found using K-Means and add the crypto name in the `hover_cols` parameter to identify the cryptocurrency represented by each data point."
   ]
  },
  {
   "cell_type": "code",
   "execution_count": 48,
   "metadata": {},
   "outputs": [],
   "source": [
    "# Initialize the K-Means model with four clusters\n",
    "model = KMeans(n_clusters=4)"
   ]
  },
  {
   "cell_type": "code",
   "execution_count": 49,
   "metadata": {},
   "outputs": [
    {
     "data": {
      "text/plain": [
       "KMeans(n_clusters=4)"
      ]
     },
     "execution_count": 49,
     "metadata": {},
     "output_type": "execute_result"
    }
   ],
   "source": [
    "# Fit the K-Means model using the scaled data\n",
    "#fit the model\n",
    "model.fit(df_market_data)\n",
    "#the results output \n",
    "KMeans(n_clusters=4)"
   ]
  },
  {
   "cell_type": "code",
   "execution_count": 50,
   "metadata": {},
   "outputs": [
    {
     "name": "stdout",
     "output_type": "stream",
     "text": [
      "[0 0 0 0 0 0 2 0 0 0 0 0 0 0 0 0 0 0 0 0 0 0 0 0 0 0 0 0 0 2 0 0 1 0 2 2 3\n",
      " 0 0 0 2]\n"
     ]
    }
   ],
   "source": [
    "# Predict the clusters to group the cryptocurrencies using the scaled data\n",
    "crypto_clusters_k4 = model.predict(df_market_data)\n",
    "\n",
    "# View the resulting array of cluster values.\n",
    "print(crypto_clusters_k4)"
   ]
  },
  {
   "cell_type": "code",
   "execution_count": 51,
   "metadata": {},
   "outputs": [
    {
     "data": {
      "text/html": [
       "<div>\n",
       "<style scoped>\n",
       "    .dataframe tbody tr th:only-of-type {\n",
       "        vertical-align: middle;\n",
       "    }\n",
       "\n",
       "    .dataframe tbody tr th {\n",
       "        vertical-align: top;\n",
       "    }\n",
       "\n",
       "    .dataframe thead th {\n",
       "        text-align: right;\n",
       "    }\n",
       "</style>\n",
       "<table border=\"1\" class=\"dataframe\">\n",
       "  <thead>\n",
       "    <tr style=\"text-align: right;\">\n",
       "      <th></th>\n",
       "      <th>price_change_percentage_24h</th>\n",
       "      <th>price_change_percentage_7d</th>\n",
       "      <th>price_change_percentage_14d</th>\n",
       "      <th>price_change_percentage_30d</th>\n",
       "      <th>price_change_percentage_60d</th>\n",
       "      <th>price_change_percentage_200d</th>\n",
       "      <th>price_change_percentage_1y</th>\n",
       "      <th>crypto_cluster_k4</th>\n",
       "    </tr>\n",
       "    <tr>\n",
       "      <th>coin_id</th>\n",
       "      <th></th>\n",
       "      <th></th>\n",
       "      <th></th>\n",
       "      <th></th>\n",
       "      <th></th>\n",
       "      <th></th>\n",
       "      <th></th>\n",
       "      <th></th>\n",
       "    </tr>\n",
       "  </thead>\n",
       "  <tbody>\n",
       "    <tr>\n",
       "      <th>bitcoin</th>\n",
       "      <td>0.508529</td>\n",
       "      <td>0.493193</td>\n",
       "      <td>0.772200</td>\n",
       "      <td>0.235460</td>\n",
       "      <td>-0.067495</td>\n",
       "      <td>-0.355953</td>\n",
       "      <td>-0.251637</td>\n",
       "      <td>0</td>\n",
       "    </tr>\n",
       "    <tr>\n",
       "      <th>ethereum</th>\n",
       "      <td>0.185446</td>\n",
       "      <td>0.934445</td>\n",
       "      <td>0.558692</td>\n",
       "      <td>-0.054341</td>\n",
       "      <td>-0.273483</td>\n",
       "      <td>-0.115759</td>\n",
       "      <td>-0.199352</td>\n",
       "      <td>0</td>\n",
       "    </tr>\n",
       "    <tr>\n",
       "      <th>tether</th>\n",
       "      <td>0.021774</td>\n",
       "      <td>-0.706337</td>\n",
       "      <td>-0.021680</td>\n",
       "      <td>-0.061030</td>\n",
       "      <td>0.008005</td>\n",
       "      <td>-0.550247</td>\n",
       "      <td>-0.282061</td>\n",
       "      <td>0</td>\n",
       "    </tr>\n",
       "    <tr>\n",
       "      <th>ripple</th>\n",
       "      <td>-0.040764</td>\n",
       "      <td>-0.810928</td>\n",
       "      <td>0.249458</td>\n",
       "      <td>-0.050388</td>\n",
       "      <td>-0.373164</td>\n",
       "      <td>-0.458259</td>\n",
       "      <td>-0.295546</td>\n",
       "      <td>0</td>\n",
       "    </tr>\n",
       "    <tr>\n",
       "      <th>bitcoin-cash</th>\n",
       "      <td>1.193036</td>\n",
       "      <td>2.000959</td>\n",
       "      <td>1.760610</td>\n",
       "      <td>0.545842</td>\n",
       "      <td>-0.291203</td>\n",
       "      <td>-0.499848</td>\n",
       "      <td>-0.270317</td>\n",
       "      <td>0</td>\n",
       "    </tr>\n",
       "  </tbody>\n",
       "</table>\n",
       "</div>"
      ],
      "text/plain": [
       "              price_change_percentage_24h  price_change_percentage_7d  \\\n",
       "coin_id                                                                 \n",
       "bitcoin                          0.508529                    0.493193   \n",
       "ethereum                         0.185446                    0.934445   \n",
       "tether                           0.021774                   -0.706337   \n",
       "ripple                          -0.040764                   -0.810928   \n",
       "bitcoin-cash                     1.193036                    2.000959   \n",
       "\n",
       "              price_change_percentage_14d  price_change_percentage_30d  \\\n",
       "coin_id                                                                  \n",
       "bitcoin                          0.772200                     0.235460   \n",
       "ethereum                         0.558692                    -0.054341   \n",
       "tether                          -0.021680                    -0.061030   \n",
       "ripple                           0.249458                    -0.050388   \n",
       "bitcoin-cash                     1.760610                     0.545842   \n",
       "\n",
       "              price_change_percentage_60d  price_change_percentage_200d  \\\n",
       "coin_id                                                                   \n",
       "bitcoin                         -0.067495                     -0.355953   \n",
       "ethereum                        -0.273483                     -0.115759   \n",
       "tether                           0.008005                     -0.550247   \n",
       "ripple                          -0.373164                     -0.458259   \n",
       "bitcoin-cash                    -0.291203                     -0.499848   \n",
       "\n",
       "              price_change_percentage_1y  crypto_cluster_k4  \n",
       "coin_id                                                      \n",
       "bitcoin                        -0.251637                  0  \n",
       "ethereum                       -0.199352                  0  \n",
       "tether                         -0.282061                  0  \n",
       "ripple                         -0.295546                  0  \n",
       "bitcoin-cash                   -0.270317                  0  "
      ]
     },
     "execution_count": 51,
     "metadata": {},
     "output_type": "execute_result"
    }
   ],
   "source": [
    "# Note: The code for this step is provided for you.\n",
    "\n",
    "# Add a new column to the DataFrame with the predicted clusters with k=4\n",
    "df_market_data_scaled[\"crypto_cluster_k4\"] = crypto_clusters_k4\n",
    "\n",
    "# Display sample data\n",
    "df_market_data_scaled.head()"
   ]
  },
  {
   "cell_type": "code",
   "execution_count": 52,
   "metadata": {},
   "outputs": [
    {
     "data": {},
     "metadata": {},
     "output_type": "display_data"
    },
    {
     "data": {
      "application/vnd.holoviews_exec.v0+json": "",
      "text/html": [
       "<div id='2561'>\n",
       "\n",
       "\n",
       "\n",
       "\n",
       "\n",
       "  <div class=\"bk-root\" id=\"fd39f3eb-4e95-4ac4-9bf1-7f45a2ba078d\" data-root-id=\"2561\"></div>\n",
       "</div>\n",
       "<script type=\"application/javascript\">(function(root) {\n",
       "  function embed_document(root) {\n",
       "    var docs_json = {\"159f82eb-c254-4d7d-972c-68abcfabf7b9\":{\"defs\":[],\"roots\":{\"references\":[{\"attributes\":{\"margin\":[5,5,5,5],\"name\":\"HSpacer05196\",\"sizing_mode\":\"stretch_width\"},\"id\":\"2562\",\"type\":\"Spacer\"},{\"attributes\":{},\"id\":\"2588\",\"type\":\"WheelZoomTool\"},{\"attributes\":{\"fill_color\":{\"value\":\"#30a2da\"},\"line_color\":{\"value\":\"#30a2da\"},\"marker\":{\"value\":\"hex\"},\"size\":{\"value\":5.477225575051661},\"x\":{\"field\":\"price_change_percentage_14d\"},\"y\":{\"field\":\"price_change_percentage_1y\"}},\"id\":\"2608\",\"type\":\"Scatter\"},{\"attributes\":{\"data_source\":{\"id\":\"2648\"},\"glyph\":{\"id\":\"2651\"},\"hover_glyph\":null,\"muted_glyph\":{\"id\":\"2653\"},\"nonselection_glyph\":{\"id\":\"2652\"},\"selection_glyph\":{\"id\":\"2671\"},\"view\":{\"id\":\"2655\"}},\"id\":\"2654\",\"type\":\"GlyphRenderer\"},{\"attributes\":{\"overlay\":{\"id\":\"2591\"}},\"id\":\"2589\",\"type\":\"BoxZoomTool\"},{\"attributes\":{\"end\":3.1266608709070227,\"reset_end\":3.1266608709070227,\"reset_start\":-2.4367150495547434,\"start\":-2.4367150495547434,\"tags\":[[[\"price_change_percentage_14d\",\"price_change_percentage_14d\",null]]]},\"id\":\"2563\",\"type\":\"Range1d\"},{\"attributes\":{\"fill_alpha\":{\"value\":0.2},\"fill_color\":{\"value\":\"#fc4f30\"},\"line_alpha\":{\"value\":0.2},\"line_color\":{\"value\":\"#fc4f30\"},\"marker\":{\"value\":\"square\"},\"size\":{\"value\":5.477225575051661},\"x\":{\"field\":\"price_change_percentage_14d\"},\"y\":{\"field\":\"price_change_percentage_1y\"}},\"id\":\"2631\",\"type\":\"Scatter\"},{\"attributes\":{\"fill_alpha\":{\"value\":0.1},\"fill_color\":{\"value\":\"#e5ae38\"},\"line_alpha\":{\"value\":0.1},\"line_color\":{\"value\":\"#e5ae38\"},\"marker\":{\"value\":\"cross\"},\"size\":{\"value\":5.477225575051661},\"x\":{\"field\":\"price_change_percentage_14d\"},\"y\":{\"field\":\"price_change_percentage_1y\"}},\"id\":\"2652\",\"type\":\"Scatter\"},{\"attributes\":{},\"id\":\"2590\",\"type\":\"ResetTool\"},{\"attributes\":{\"fill_alpha\":{\"value\":0.2},\"fill_color\":{\"value\":\"#e5ae38\"},\"line_alpha\":{\"value\":0.2},\"line_color\":{\"value\":\"#e5ae38\"},\"marker\":{\"value\":\"cross\"},\"size\":{\"value\":5.477225575051661},\"x\":{\"field\":\"price_change_percentage_14d\"},\"y\":{\"field\":\"price_change_percentage_1y\"}},\"id\":\"2653\",\"type\":\"Scatter\"},{\"attributes\":{\"angle\":{\"value\":0.0},\"fill_alpha\":{\"value\":1.0},\"fill_color\":{\"value\":\"#e5ae38\"},\"hatch_alpha\":{\"value\":1.0},\"hatch_color\":{\"value\":\"black\"},\"hatch_scale\":{\"value\":12.0},\"hatch_weight\":{\"value\":1.0},\"line_alpha\":{\"value\":1.0},\"line_cap\":{\"value\":\"butt\"},\"line_color\":{\"value\":\"#e5ae38\"},\"line_dash\":{\"value\":[]},\"line_dash_offset\":{\"value\":0},\"line_join\":{\"value\":\"bevel\"},\"line_width\":{\"value\":1},\"marker\":{\"value\":\"cross\"},\"size\":{\"value\":5.477225575051661},\"x\":{\"field\":\"price_change_percentage_14d\"},\"y\":{\"field\":\"price_change_percentage_1y\"}},\"id\":\"2671\",\"type\":\"Scatter\"},{\"attributes\":{},\"id\":\"2606\",\"type\":\"Selection\"},{\"attributes\":{},\"id\":\"2627\",\"type\":\"Selection\"},{\"attributes\":{},\"id\":\"2668\",\"type\":\"UnionRenderers\"},{\"attributes\":{\"source\":{\"id\":\"2626\"}},\"id\":\"2633\",\"type\":\"CDSView\"},{\"attributes\":{},\"id\":\"2574\",\"type\":\"LinearScale\"},{\"attributes\":{\"fill_alpha\":{\"value\":0.2},\"fill_color\":{\"value\":\"#6d904f\"},\"line_alpha\":{\"value\":0.2},\"line_color\":{\"value\":\"#6d904f\"},\"marker\":{\"value\":\"inverted_triangle\"},\"size\":{\"value\":5.477225575051661},\"x\":{\"field\":\"price_change_percentage_14d\"},\"y\":{\"field\":\"price_change_percentage_1y\"}},\"id\":\"2677\",\"type\":\"Scatter\"},{\"attributes\":{\"data\":{\"coin_id\":[\"ethlend\"],\"crypto_cluster_k4\":[1],\"price_change_percentage_14d\":{\"__ndarray__\":\"EjPPN7FP878=\",\"dtype\":\"float64\",\"order\":\"little\",\"shape\":[1]},\"price_change_percentage_1y\":{\"__ndarray__\":\"gzyZocBaGEA=\",\"dtype\":\"float64\",\"order\":\"little\",\"shape\":[1]}},\"selected\":{\"id\":\"2627\"},\"selection_policy\":{\"id\":\"2644\"}},\"id\":\"2626\",\"type\":\"ColumnDataSource\"},{\"attributes\":{},\"id\":\"2649\",\"type\":\"Selection\"},{\"attributes\":{\"source\":{\"id\":\"2672\"}},\"id\":\"2679\",\"type\":\"CDSView\"},{\"attributes\":{\"data\":{\"coin_id\":[\"celsius-degree-token\"],\"crypto_cluster_k4\":[3],\"price_change_percentage_14d\":{\"__ndarray__\":\"FlU2faVBB0A=\",\"dtype\":\"float64\",\"order\":\"little\",\"shape\":[1]},\"price_change_percentage_1y\":{\"__ndarray__\":\"OvTrj2iT9T8=\",\"dtype\":\"float64\",\"order\":\"little\",\"shape\":[1]}},\"selected\":{\"id\":\"2673\"},\"selection_policy\":{\"id\":\"2694\"}},\"id\":\"2672\",\"type\":\"ColumnDataSource\"},{\"attributes\":{\"source\":{\"id\":\"2605\"}},\"id\":\"2612\",\"type\":\"CDSView\"},{\"attributes\":{\"label\":{\"value\":\"3\"},\"renderers\":[{\"id\":\"2678\"}]},\"id\":\"2696\",\"type\":\"LegendItem\"},{\"attributes\":{\"angle\":{\"value\":0.0},\"fill_alpha\":{\"value\":1.0},\"fill_color\":{\"value\":\"#30a2da\"},\"hatch_alpha\":{\"value\":1.0},\"hatch_color\":{\"value\":\"black\"},\"hatch_scale\":{\"value\":12.0},\"hatch_weight\":{\"value\":1.0},\"line_alpha\":{\"value\":1.0},\"line_cap\":{\"value\":\"butt\"},\"line_color\":{\"value\":\"#30a2da\"},\"line_dash\":{\"value\":[]},\"line_dash_offset\":{\"value\":0},\"line_join\":{\"value\":\"bevel\"},\"line_width\":{\"value\":1},\"marker\":{\"value\":\"hex\"},\"size\":{\"value\":5.477225575051661},\"x\":{\"field\":\"price_change_percentage_14d\"},\"y\":{\"field\":\"price_change_percentage_1y\"}},\"id\":\"2625\",\"type\":\"Scatter\"},{\"attributes\":{\"fill_color\":{\"value\":\"#6d904f\"},\"line_color\":{\"value\":\"#6d904f\"},\"marker\":{\"value\":\"inverted_triangle\"},\"size\":{\"value\":5.477225575051661},\"x\":{\"field\":\"price_change_percentage_14d\"},\"y\":{\"field\":\"price_change_percentage_1y\"}},\"id\":\"2675\",\"type\":\"Scatter\"},{\"attributes\":{\"children\":[{\"id\":\"2562\"},{\"id\":\"2569\"},{\"id\":\"2842\"}],\"margin\":[0,0,0,0],\"name\":\"Row05192\",\"tags\":[\"embedded\"]},\"id\":\"2561\",\"type\":\"Row\"},{\"attributes\":{},\"id\":\"2694\",\"type\":\"UnionRenderers\"},{\"attributes\":{\"data_source\":{\"id\":\"2672\"},\"glyph\":{\"id\":\"2675\"},\"hover_glyph\":null,\"muted_glyph\":{\"id\":\"2677\"},\"nonselection_glyph\":{\"id\":\"2676\"},\"selection_glyph\":{\"id\":\"2697\"},\"view\":{\"id\":\"2679\"}},\"id\":\"2678\",\"type\":\"GlyphRenderer\"},{\"attributes\":{\"bottom_units\":\"screen\",\"fill_alpha\":0.5,\"fill_color\":\"lightgrey\",\"left_units\":\"screen\",\"level\":\"overlay\",\"line_alpha\":1.0,\"line_color\":\"black\",\"line_dash\":[4,4],\"line_width\":2,\"right_units\":\"screen\",\"syncable\":false,\"top_units\":\"screen\"},\"id\":\"2591\",\"type\":\"BoxAnnotation\"},{\"attributes\":{\"callback\":null,\"renderers\":[{\"id\":\"2611\"},{\"id\":\"2632\"},{\"id\":\"2654\"},{\"id\":\"2678\"}],\"tags\":[\"hv_created\"],\"tooltips\":[[\"crypto_cluster_k4\",\"@{crypto_cluster_k4}\"],[\"price_change_percentage_14d\",\"@{price_change_percentage_14d}\"],[\"price_change_percentage_1y\",\"@{price_change_percentage_1y}\"],[\"coin_id\",\"@{coin_id}\"]]},\"id\":\"2565\",\"type\":\"HoverTool\"},{\"attributes\":{\"active_multi\":null,\"tools\":[{\"id\":\"2565\"},{\"id\":\"2586\"},{\"id\":\"2587\"},{\"id\":\"2588\"},{\"id\":\"2589\"},{\"id\":\"2590\"}]},\"id\":\"2592\",\"type\":\"Toolbar\"},{\"attributes\":{},\"id\":\"2621\",\"type\":\"UnionRenderers\"},{\"attributes\":{\"end\":6.72712095745086,\"reset_end\":6.72712095745086,\"reset_start\":-0.9348250733816648,\"start\":-0.9348250733816648,\"tags\":[[[\"price_change_percentage_1y\",\"price_change_percentage_1y\",null]]]},\"id\":\"2564\",\"type\":\"Range1d\"},{\"attributes\":{\"fill_alpha\":{\"value\":0.1},\"fill_color\":{\"value\":\"#30a2da\"},\"line_alpha\":{\"value\":0.1},\"line_color\":{\"value\":\"#30a2da\"},\"marker\":{\"value\":\"hex\"},\"size\":{\"value\":5.477225575051661},\"x\":{\"field\":\"price_change_percentage_14d\"},\"y\":{\"field\":\"price_change_percentage_1y\"}},\"id\":\"2609\",\"type\":\"Scatter\"},{\"attributes\":{\"fill_alpha\":{\"value\":0.1},\"fill_color\":{\"value\":\"#6d904f\"},\"line_alpha\":{\"value\":0.1},\"line_color\":{\"value\":\"#6d904f\"},\"marker\":{\"value\":\"inverted_triangle\"},\"size\":{\"value\":5.477225575051661},\"x\":{\"field\":\"price_change_percentage_14d\"},\"y\":{\"field\":\"price_change_percentage_1y\"}},\"id\":\"2676\",\"type\":\"Scatter\"},{\"attributes\":{\"data_source\":{\"id\":\"2605\"},\"glyph\":{\"id\":\"2608\"},\"hover_glyph\":null,\"muted_glyph\":{\"id\":\"2610\"},\"nonselection_glyph\":{\"id\":\"2609\"},\"selection_glyph\":{\"id\":\"2625\"},\"view\":{\"id\":\"2612\"}},\"id\":\"2611\",\"type\":\"GlyphRenderer\"},{\"attributes\":{},\"id\":\"2601\",\"type\":\"BasicTickFormatter\"},{\"attributes\":{\"angle\":{\"value\":0.0},\"fill_alpha\":{\"value\":1.0},\"fill_color\":{\"value\":\"#6d904f\"},\"hatch_alpha\":{\"value\":1.0},\"hatch_color\":{\"value\":\"black\"},\"hatch_scale\":{\"value\":12.0},\"hatch_weight\":{\"value\":1.0},\"line_alpha\":{\"value\":1.0},\"line_cap\":{\"value\":\"butt\"},\"line_color\":{\"value\":\"#6d904f\"},\"line_dash\":{\"value\":[]},\"line_dash_offset\":{\"value\":0},\"line_join\":{\"value\":\"bevel\"},\"line_width\":{\"value\":1},\"marker\":{\"value\":\"inverted_triangle\"},\"size\":{\"value\":5.477225575051661},\"x\":{\"field\":\"price_change_percentage_14d\"},\"y\":{\"field\":\"price_change_percentage_1y\"}},\"id\":\"2697\",\"type\":\"Scatter\"},{\"attributes\":{\"data\":{\"coin_id\":[\"bitcoin\",\"ethereum\",\"tether\",\"ripple\",\"bitcoin-cash\",\"binancecoin\",\"cardano\",\"litecoin\",\"bitcoin-cash-sv\",\"crypto-com-chain\",\"usd-coin\",\"eos\",\"monero\",\"tron\",\"tezos\",\"okb\",\"stellar\",\"cosmos\",\"cdai\",\"neo\",\"wrapped-bitcoin\",\"leo-token\",\"huobi-token\",\"nem\",\"binance-usd\",\"iota\",\"vechain\",\"zcash\",\"dash\",\"ethereum-classic\",\"maker\",\"ontology\",\"ftx-token\",\"true-usd\"],\"crypto_cluster_k4\":[0,0,0,0,0,0,0,0,0,0,0,0,0,0,0,0,0,0,0,0,0,0,0,0,0,0,0,0,0,0,0,0,0,0],\"price_change_percentage_14d\":{\"__ndarray__\":\"nuLdrt216D+RSHVMzuDhPx57AWhkM5a/zdxfKD3uzz+7EItmdSv8PzJprcZam+k/FsyQmqrD5D/v/Ymm/njrP3NjPGDhv8+/S7Jsj1Hf8L+Ea3M8HbKXv2o3cmQwcr0/nMN/2A6fAUCB+5Lc+dXCP7kNxiFGg9A/RFZlsaco5L8hn4zWeJ3Dv+lg4F4VmOQ/W90W1njBXb8A0bj4GGfzvzONKoSjo+g/VoMNjb/m67/Q3ihBvaagP0yfh4NnDNM/JLv+dIpgj78rzAtNKafev7ySoCyjvAHADQVx0Veu5T8zuWztDoCkP3Vx51E5eMa/AkzpMNDmyb/cP0enpcj0v+FC29fyQqi/ijCfoLDSgr8=\",\"dtype\":\"float64\",\"order\":\"little\",\"shape\":[34]},\"price_change_percentage_1y\":{\"__ndarray__\":\"ZIOvlNEa0L8/RW61XoTJv9LW7YFHDdK/aJ0VXjrq0r8x6nx330zRv1Vc65xA3sy/bhp6DhTlw79CqVLd4bXSv8DzHRIoX8q/ZYfU+i+zob9Zt1uMFxDSv9d+3k0Q99K/h+sZ6V11xb8QlazDLPTNv2O+GP+0kMW/Gk6kgv5cxb+88dBFAFbRv70IIcFgi8u/r2LTfF0R0r/sbi65b3jGv8WRKf2YGtC/gyUqDlr20L+Nkv626MbQvz7kRR6bhb6/svdGCLAL0r9AEV4UhELSvzOgZDxFE76/G1xdyYB/y78QoW/gOS7SvxWxlnnXedG/IdIwj+5/0b9Y0yK6wrXSvxKiHMC8nsK/P3pCziMI0r8=\",\"dtype\":\"float64\",\"order\":\"little\",\"shape\":[34]}},\"selected\":{\"id\":\"2606\"},\"selection_policy\":{\"id\":\"2621\"}},\"id\":\"2605\",\"type\":\"ColumnDataSource\"},{\"attributes\":{\"fill_alpha\":{\"value\":0.1},\"fill_color\":{\"value\":\"#fc4f30\"},\"line_alpha\":{\"value\":0.1},\"line_color\":{\"value\":\"#fc4f30\"},\"marker\":{\"value\":\"square\"},\"size\":{\"value\":5.477225575051661},\"x\":{\"field\":\"price_change_percentage_14d\"},\"y\":{\"field\":\"price_change_percentage_1y\"}},\"id\":\"2630\",\"type\":\"Scatter\"},{\"attributes\":{\"axis\":{\"id\":\"2582\"},\"dimension\":1,\"grid_line_color\":null,\"ticker\":null},\"id\":\"2585\",\"type\":\"Grid\"},{\"attributes\":{\"data_source\":{\"id\":\"2626\"},\"glyph\":{\"id\":\"2629\"},\"hover_glyph\":null,\"muted_glyph\":{\"id\":\"2631\"},\"nonselection_glyph\":{\"id\":\"2630\"},\"selection_glyph\":{\"id\":\"2647\"},\"view\":{\"id\":\"2633\"}},\"id\":\"2632\",\"type\":\"GlyphRenderer\"},{\"attributes\":{\"below\":[{\"id\":\"2578\"}],\"center\":[{\"id\":\"2581\"},{\"id\":\"2585\"}],\"height\":300,\"left\":[{\"id\":\"2582\"}],\"margin\":[5,5,5,5],\"min_border_bottom\":10,\"min_border_left\":10,\"min_border_right\":10,\"min_border_top\":10,\"renderers\":[{\"id\":\"2611\"},{\"id\":\"2632\"},{\"id\":\"2654\"},{\"id\":\"2678\"}],\"right\":[{\"id\":\"2623\"}],\"sizing_mode\":\"fixed\",\"title\":{\"id\":\"2570\"},\"toolbar\":{\"id\":\"2592\"},\"width\":700,\"x_range\":{\"id\":\"2563\"},\"x_scale\":{\"id\":\"2574\"},\"y_range\":{\"id\":\"2564\"},\"y_scale\":{\"id\":\"2576\"}},\"id\":\"2569\",\"subtype\":\"Figure\",\"type\":\"Plot\"},{\"attributes\":{\"fill_alpha\":{\"value\":0.2},\"fill_color\":{\"value\":\"#30a2da\"},\"line_alpha\":{\"value\":0.2},\"line_color\":{\"value\":\"#30a2da\"},\"marker\":{\"value\":\"hex\"},\"size\":{\"value\":5.477225575051661},\"x\":{\"field\":\"price_change_percentage_14d\"},\"y\":{\"field\":\"price_change_percentage_1y\"}},\"id\":\"2610\",\"type\":\"Scatter\"},{\"attributes\":{\"label\":{\"value\":\"0\"},\"renderers\":[{\"id\":\"2611\"}]},\"id\":\"2624\",\"type\":\"LegendItem\"},{\"attributes\":{\"margin\":[5,5,5,5],\"name\":\"HSpacer05197\",\"sizing_mode\":\"stretch_width\"},\"id\":\"2842\",\"type\":\"Spacer\"},{\"attributes\":{\"axis\":{\"id\":\"2578\"},\"grid_line_color\":null,\"ticker\":null},\"id\":\"2581\",\"type\":\"Grid\"},{\"attributes\":{\"fill_color\":{\"value\":\"#fc4f30\"},\"line_color\":{\"value\":\"#fc4f30\"},\"marker\":{\"value\":\"square\"},\"size\":{\"value\":5.477225575051661},\"x\":{\"field\":\"price_change_percentage_14d\"},\"y\":{\"field\":\"price_change_percentage_1y\"}},\"id\":\"2629\",\"type\":\"Scatter\"},{\"attributes\":{},\"id\":\"2579\",\"type\":\"BasicTicker\"},{\"attributes\":{\"text_color\":\"black\",\"text_font_size\":\"12pt\"},\"id\":\"2570\",\"type\":\"Title\"},{\"attributes\":{},\"id\":\"2644\",\"type\":\"UnionRenderers\"},{\"attributes\":{\"axis_label\":\"price_change_percentage_14d\",\"formatter\":{\"id\":\"2601\"},\"major_label_policy\":{\"id\":\"2599\"},\"ticker\":{\"id\":\"2579\"}},\"id\":\"2578\",\"type\":\"LinearAxis\"},{\"attributes\":{},\"id\":\"2576\",\"type\":\"LinearScale\"},{\"attributes\":{\"label\":{\"value\":\"1\"},\"renderers\":[{\"id\":\"2632\"}]},\"id\":\"2646\",\"type\":\"LegendItem\"},{\"attributes\":{},\"id\":\"2583\",\"type\":\"BasicTicker\"},{\"attributes\":{},\"id\":\"2673\",\"type\":\"Selection\"},{\"attributes\":{\"axis_label\":\"price_change_percentage_1y\",\"formatter\":{\"id\":\"2604\"},\"major_label_policy\":{\"id\":\"2602\"},\"ticker\":{\"id\":\"2583\"}},\"id\":\"2582\",\"type\":\"LinearAxis\"},{\"attributes\":{\"fill_color\":{\"value\":\"#e5ae38\"},\"line_color\":{\"value\":\"#e5ae38\"},\"marker\":{\"value\":\"cross\"},\"size\":{\"value\":5.477225575051661},\"x\":{\"field\":\"price_change_percentage_14d\"},\"y\":{\"field\":\"price_change_percentage_1y\"}},\"id\":\"2651\",\"type\":\"Scatter\"},{\"attributes\":{\"angle\":{\"value\":0.0},\"fill_alpha\":{\"value\":1.0},\"fill_color\":{\"value\":\"#fc4f30\"},\"hatch_alpha\":{\"value\":1.0},\"hatch_color\":{\"value\":\"black\"},\"hatch_scale\":{\"value\":12.0},\"hatch_weight\":{\"value\":1.0},\"line_alpha\":{\"value\":1.0},\"line_cap\":{\"value\":\"butt\"},\"line_color\":{\"value\":\"#fc4f30\"},\"line_dash\":{\"value\":[]},\"line_dash_offset\":{\"value\":0},\"line_join\":{\"value\":\"bevel\"},\"line_width\":{\"value\":1},\"marker\":{\"value\":\"square\"},\"size\":{\"value\":5.477225575051661},\"x\":{\"field\":\"price_change_percentage_14d\"},\"y\":{\"field\":\"price_change_percentage_1y\"}},\"id\":\"2647\",\"type\":\"Scatter\"},{\"attributes\":{},\"id\":\"2602\",\"type\":\"AllLabels\"},{\"attributes\":{},\"id\":\"2599\",\"type\":\"AllLabels\"},{\"attributes\":{\"click_policy\":\"mute\",\"items\":[{\"id\":\"2624\"},{\"id\":\"2646\"},{\"id\":\"2670\"},{\"id\":\"2696\"}],\"location\":[0,0],\"title\":\"crypto_cluster_k4\"},\"id\":\"2623\",\"type\":\"Legend\"},{\"attributes\":{\"data\":{\"coin_id\":[\"chainlink\",\"theta-token\",\"havven\",\"omisego\",\"digibyte\"],\"crypto_cluster_k4\":[2,2,2,2,2],\"price_change_percentage_14d\":{\"__ndarray__\":\"EKfjhlig8T/ZNjFdNyTqvyvzUbHOD/q/O1/1hYrq+b+uLyxJrgbtvw==\",\"dtype\":\"float64\",\"order\":\"little\",\"shape\":[5]},\"price_change_percentage_1y\":{\"__ndarray__\":\"MUz1RyW5kr8dHK1j1F3SP3r6/cSEMdE/58IWQ8Jplr/iEUnTKPXAvw==\",\"dtype\":\"float64\",\"order\":\"little\",\"shape\":[5]}},\"selected\":{\"id\":\"2649\"},\"selection_policy\":{\"id\":\"2668\"}},\"id\":\"2648\",\"type\":\"ColumnDataSource\"},{\"attributes\":{},\"id\":\"2604\",\"type\":\"BasicTickFormatter\"},{\"attributes\":{},\"id\":\"2586\",\"type\":\"SaveTool\"},{\"attributes\":{\"source\":{\"id\":\"2648\"}},\"id\":\"2655\",\"type\":\"CDSView\"},{\"attributes\":{\"label\":{\"value\":\"2\"},\"renderers\":[{\"id\":\"2654\"}]},\"id\":\"2670\",\"type\":\"LegendItem\"},{\"attributes\":{},\"id\":\"2587\",\"type\":\"PanTool\"}],\"root_ids\":[\"2561\"]},\"title\":\"Bokeh Application\",\"version\":\"2.3.2\"}};\n",
       "    var render_items = [{\"docid\":\"159f82eb-c254-4d7d-972c-68abcfabf7b9\",\"root_ids\":[\"2561\"],\"roots\":{\"2561\":\"fd39f3eb-4e95-4ac4-9bf1-7f45a2ba078d\"}}];\n",
       "    root.Bokeh.embed.embed_items_notebook(docs_json, render_items);\n",
       "  }\n",
       "  if (root.Bokeh !== undefined && root.Bokeh.Panel !== undefined) {\n",
       "    embed_document(root);\n",
       "  } else {\n",
       "    var attempts = 0;\n",
       "    var timer = setInterval(function(root) {\n",
       "      if (root.Bokeh !== undefined && root.Bokeh.Panel !== undefined) {\n",
       "        clearInterval(timer);\n",
       "        embed_document(root);\n",
       "      } else if (document.readyState == \"complete\") {\n",
       "        attempts++;\n",
       "        if (attempts > 100) {\n",
       "          clearInterval(timer);\n",
       "          console.log(\"Bokeh: ERROR: Unable to run BokehJS code because BokehJS library is missing\");\n",
       "        }\n",
       "      }\n",
       "    }, 10, root)\n",
       "  }\n",
       "})(window);</script>"
      ],
      "text/plain": [
       ":NdOverlay   [crypto_cluster_k4]\n",
       "   :Scatter   [price_change_percentage_14d]   (price_change_percentage_1y,coin_id)"
      ]
     },
     "execution_count": 52,
     "metadata": {
      "application/vnd.holoviews_exec.v0+json": {
       "id": "2561"
      }
     },
     "output_type": "execute_result"
    }
   ],
   "source": [
    "# Create a scatter plot using hvPlot by setting \n",
    "# `x=\"price_change_percentage_14d\"` and `y=\"price_change_percentage_1y\"`.\n",
    "# Group the results by the clusters using `by=\"crypto_cluster_k4\".\n",
    "# Set the hover to the coin id using `hover_cols=[\"coin_id\"]`.\n",
    "\n",
    "df_market_data_scaled.hvplot.scatter(\n",
    "    x=\"price_change_percentage_14d\",\n",
    "    y=\"price_change_percentage_1y\",\n",
    "    by=\"crypto_cluster_k4\",\n",
    "    hover_cols=[\"coin_id\"],\n",
    "    marker=[\"hex\", \"square\", \"cross\", \"inverted_triangle\", \"triangle\"],\n",
    ")"
   ]
  },
  {
   "cell_type": "markdown",
   "metadata": {},
   "source": [
    "---"
   ]
  },
  {
   "cell_type": "markdown",
   "metadata": {},
   "source": [
    "# Find the Best Value for k\n",
    "\n",
    "In this section, you will use the elbow method to find the best value for k.\n",
    "\n",
    "1. Code the elbow method algorithm to find the best value for k. Use a range from 1 to 11. \n",
    "\n",
    "2. Plot a line chart with all the inertia values computed with the different values of k to visually identify the optimal value for k.\n",
    "\n",
    "3. Answer the following question: What is the best value for k?"
   ]
  },
  {
   "cell_type": "code",
   "execution_count": 53,
   "metadata": {},
   "outputs": [],
   "source": [
    "# Create a list with the number of k-values to try\n",
    "# Use a range from 1 to 11\n",
    "k = list(range(1, 11))"
   ]
  },
  {
   "cell_type": "code",
   "execution_count": 54,
   "metadata": {},
   "outputs": [],
   "source": [
    "# Create an empy list to store the inertia values\n",
    "inertia = []"
   ]
  },
  {
   "cell_type": "code",
   "execution_count": 55,
   "metadata": {},
   "outputs": [],
   "source": [
    "# Create a for loop to compute the inertia with each possible value of k\n",
    "# Inside the loop:\n",
    "# 1. Create a KMeans model using the loop counter for the n_clusters\n",
    "# 2. Fit the model to the data using `df_market_data_scaled`\n",
    "# 3. Append the model.inertia_ to the inirtia list\n",
    "for i in k:\n",
    "    model = KMeans(n_clusters=i, random_state=0)\n",
    "    model.fit(df_market_data_scaled)\n",
    "    inertia.append(model.inertia_)"
   ]
  },
  {
   "cell_type": "code",
   "execution_count": 56,
   "metadata": {},
   "outputs": [],
   "source": [
    "# Create a dictionary with the data to plot the Elbow curve\n",
    "elbow_data = {\n",
    "    \"k\": k,\n",
    "    \"inertia\": inertia\n",
    "}\n",
    "\n",
    "# Create a DataFrame with the data to plot the Elbow curve\n",
    "df_elbow = pd.DataFrame(elbow_data)"
   ]
  },
  {
   "cell_type": "code",
   "execution_count": 57,
   "metadata": {},
   "outputs": [
    {
     "data": {},
     "metadata": {},
     "output_type": "display_data"
    },
    {
     "data": {
      "application/vnd.holoviews_exec.v0+json": "",
      "text/html": [
       "<div id='2924'>\n",
       "\n",
       "\n",
       "\n",
       "\n",
       "\n",
       "  <div class=\"bk-root\" id=\"d1901962-c18b-45d9-b924-8550d6281648\" data-root-id=\"2924\"></div>\n",
       "</div>\n",
       "<script type=\"application/javascript\">(function(root) {\n",
       "  function embed_document(root) {\n",
       "    var docs_json = {\"cd7377d1-668e-4ec3-9e43-25c0a4f7e445\":{\"defs\":[],\"roots\":{\"references\":[{\"attributes\":{},\"id\":\"2943\",\"type\":\"BasicTicker\"},{\"attributes\":{\"axis_label\":\"inertia\",\"formatter\":{\"id\":\"2976\"},\"major_label_policy\":{\"id\":\"2974\"},\"ticker\":{\"id\":\"2943\"}},\"id\":\"2942\",\"type\":\"LinearAxis\"},{\"attributes\":{\"below\":[{\"id\":\"2938\"}],\"center\":[{\"id\":\"2941\"},{\"id\":\"2945\"}],\"height\":300,\"left\":[{\"id\":\"2942\"}],\"margin\":[5,5,5,5],\"min_border_bottom\":10,\"min_border_left\":10,\"min_border_right\":10,\"min_border_top\":10,\"renderers\":[{\"id\":\"2965\"}],\"sizing_mode\":\"fixed\",\"title\":{\"id\":\"2930\"},\"toolbar\":{\"id\":\"2952\"},\"width\":700,\"x_range\":{\"id\":\"2926\"},\"x_scale\":{\"id\":\"2934\"},\"y_range\":{\"id\":\"2927\"},\"y_scale\":{\"id\":\"2936\"}},\"id\":\"2929\",\"subtype\":\"Figure\",\"type\":\"Plot\"},{\"attributes\":{},\"id\":\"2976\",\"type\":\"BasicTickFormatter\"},{\"attributes\":{\"line_alpha\":0.1,\"line_color\":\"#30a2da\",\"line_width\":2,\"x\":{\"field\":\"k\"},\"y\":{\"field\":\"inertia\"}},\"id\":\"2963\",\"type\":\"Line\"},{\"attributes\":{\"bottom_units\":\"screen\",\"fill_alpha\":0.5,\"fill_color\":\"lightgrey\",\"left_units\":\"screen\",\"level\":\"overlay\",\"line_alpha\":1.0,\"line_color\":\"black\",\"line_dash\":[4,4],\"line_width\":2,\"right_units\":\"screen\",\"syncable\":false,\"top_units\":\"screen\"},\"id\":\"2951\",\"type\":\"BoxAnnotation\"},{\"attributes\":{},\"id\":\"2984\",\"type\":\"UnionRenderers\"},{\"attributes\":{\"data_source\":{\"id\":\"2959\"},\"glyph\":{\"id\":\"2962\"},\"hover_glyph\":null,\"muted_glyph\":{\"id\":\"2964\"},\"nonselection_glyph\":{\"id\":\"2963\"},\"selection_glyph\":{\"id\":\"2967\"},\"view\":{\"id\":\"2966\"}},\"id\":\"2965\",\"type\":\"GlyphRenderer\"},{\"attributes\":{\"margin\":[5,5,5,5],\"name\":\"HSpacer05914\",\"sizing_mode\":\"stretch_width\"},\"id\":\"2995\",\"type\":\"Spacer\"},{\"attributes\":{\"end\":10.0,\"reset_end\":10.0,\"reset_start\":1.0,\"start\":1.0,\"tags\":[[[\"k\",\"k\",null]]]},\"id\":\"2926\",\"type\":\"Range1d\"},{\"attributes\":{},\"id\":\"2934\",\"type\":\"LinearScale\"},{\"attributes\":{},\"id\":\"2946\",\"type\":\"SaveTool\"},{\"attributes\":{},\"id\":\"2936\",\"type\":\"LinearScale\"},{\"attributes\":{},\"id\":\"2960\",\"type\":\"Selection\"},{\"attributes\":{},\"id\":\"2947\",\"type\":\"PanTool\"},{\"attributes\":{\"axis\":{\"id\":\"2942\"},\"dimension\":1,\"grid_line_color\":null,\"ticker\":null},\"id\":\"2945\",\"type\":\"Grid\"},{\"attributes\":{\"data\":{\"inertia\":{\"__ndarray__\":\"8zE4H4ODc0AURLksWoRqQNA7jEwLlGFAA7P9gDQQWEAagfqKkd9RQH2Xf4TysU5ATFE97aH0SUA6H4JjrkFGQBQolSAsSUJAKH1cScbmPUA=\",\"dtype\":\"float64\",\"order\":\"little\",\"shape\":[10]},\"k\":[1,2,3,4,5,6,7,8,9,10]},\"selected\":{\"id\":\"2960\"},\"selection_policy\":{\"id\":\"2984\"}},\"id\":\"2959\",\"type\":\"ColumnDataSource\"},{\"attributes\":{},\"id\":\"2948\",\"type\":\"WheelZoomTool\"},{\"attributes\":{\"children\":[{\"id\":\"2925\"},{\"id\":\"2929\"},{\"id\":\"2995\"}],\"margin\":[0,0,0,0],\"name\":\"Row05909\",\"tags\":[\"embedded\"]},\"id\":\"2924\",\"type\":\"Row\"},{\"attributes\":{\"line_color\":\"#30a2da\",\"line_width\":2,\"x\":{\"field\":\"k\"},\"y\":{\"field\":\"inertia\"}},\"id\":\"2967\",\"type\":\"Line\"},{\"attributes\":{\"active_multi\":null,\"tools\":[{\"id\":\"2928\"},{\"id\":\"2946\"},{\"id\":\"2947\"},{\"id\":\"2948\"},{\"id\":\"2949\"},{\"id\":\"2950\"}]},\"id\":\"2952\",\"type\":\"Toolbar\"},{\"attributes\":{},\"id\":\"2974\",\"type\":\"AllLabels\"},{\"attributes\":{\"axis_label\":\"k\",\"formatter\":{\"id\":\"2971\"},\"major_label_policy\":{\"id\":\"2969\"},\"ticker\":{\"id\":\"2968\"}},\"id\":\"2938\",\"type\":\"LinearAxis\"},{\"attributes\":{\"overlay\":{\"id\":\"2951\"}},\"id\":\"2949\",\"type\":\"BoxZoomTool\"},{\"attributes\":{\"source\":{\"id\":\"2959\"}},\"id\":\"2966\",\"type\":\"CDSView\"},{\"attributes\":{\"line_color\":\"#30a2da\",\"line_width\":2,\"x\":{\"field\":\"k\"},\"y\":{\"field\":\"inertia\"}},\"id\":\"2962\",\"type\":\"Line\"},{\"attributes\":{\"callback\":null,\"renderers\":[{\"id\":\"2965\"}],\"tags\":[\"hv_created\"],\"tooltips\":[[\"k\",\"@{k}\"],[\"inertia\",\"@{inertia}\"]]},\"id\":\"2928\",\"type\":\"HoverTool\"},{\"attributes\":{\"ticks\":[1,2,3,4,5,6,7,8,9,10]},\"id\":\"2968\",\"type\":\"FixedTicker\"},{\"attributes\":{},\"id\":\"2950\",\"type\":\"ResetTool\"},{\"attributes\":{\"margin\":[5,5,5,5],\"name\":\"HSpacer05913\",\"sizing_mode\":\"stretch_width\"},\"id\":\"2925\",\"type\":\"Spacer\"},{\"attributes\":{},\"id\":\"2971\",\"type\":\"BasicTickFormatter\"},{\"attributes\":{\"line_alpha\":0.2,\"line_color\":\"#30a2da\",\"line_width\":2,\"x\":{\"field\":\"k\"},\"y\":{\"field\":\"inertia\"}},\"id\":\"2964\",\"type\":\"Line\"},{\"attributes\":{\"end\":340.45131710334334,\"reset_end\":340.45131710334334,\"reset_start\":1.6696582046862716,\"start\":1.6696582046862716,\"tags\":[[[\"inertia\",\"inertia\",null]]]},\"id\":\"2927\",\"type\":\"Range1d\"},{\"attributes\":{},\"id\":\"2969\",\"type\":\"AllLabels\"},{\"attributes\":{\"text\":\"Elbow Curve\",\"text_color\":\"black\",\"text_font_size\":\"12pt\"},\"id\":\"2930\",\"type\":\"Title\"},{\"attributes\":{\"axis\":{\"id\":\"2938\"},\"grid_line_color\":null,\"ticker\":null},\"id\":\"2941\",\"type\":\"Grid\"}],\"root_ids\":[\"2924\"]},\"title\":\"Bokeh Application\",\"version\":\"2.3.2\"}};\n",
       "    var render_items = [{\"docid\":\"cd7377d1-668e-4ec3-9e43-25c0a4f7e445\",\"root_ids\":[\"2924\"],\"roots\":{\"2924\":\"d1901962-c18b-45d9-b924-8550d6281648\"}}];\n",
       "    root.Bokeh.embed.embed_items_notebook(docs_json, render_items);\n",
       "  }\n",
       "  if (root.Bokeh !== undefined && root.Bokeh.Panel !== undefined) {\n",
       "    embed_document(root);\n",
       "  } else {\n",
       "    var attempts = 0;\n",
       "    var timer = setInterval(function(root) {\n",
       "      if (root.Bokeh !== undefined && root.Bokeh.Panel !== undefined) {\n",
       "        clearInterval(timer);\n",
       "        embed_document(root);\n",
       "      } else if (document.readyState == \"complete\") {\n",
       "        attempts++;\n",
       "        if (attempts > 100) {\n",
       "          clearInterval(timer);\n",
       "          console.log(\"Bokeh: ERROR: Unable to run BokehJS code because BokehJS library is missing\");\n",
       "        }\n",
       "      }\n",
       "    }, 10, root)\n",
       "  }\n",
       "})(window);</script>"
      ],
      "text/plain": [
       ":Curve   [k]   (inertia)"
      ]
     },
     "execution_count": 57,
     "metadata": {
      "application/vnd.holoviews_exec.v0+json": {
       "id": "2924"
      }
     },
     "output_type": "execute_result"
    }
   ],
   "source": [
    "# Plot a line chart with all the inertia values computed with \n",
    "# the different values of k to visually identify the optimal value for k.\n",
    "df_elbow.hvplot.line(x=\"k\", y=\"inertia\", title=\"Elbow Curve\", xticks=k)"
   ]
  },
  {
   "cell_type": "markdown",
   "metadata": {},
   "source": [
    "#### 3. Answer the following question: What is the best value for k?\n",
    "**Question:** What is the best value for `k`?\n",
    "\n",
    "**Answer:** 5"
   ]
  },
  {
   "cell_type": "markdown",
   "metadata": {},
   "source": [
    "---"
   ]
  },
  {
   "cell_type": "markdown",
   "metadata": {},
   "source": [
    "# Optimize Clusters with Principal Component Analysis\n",
    "\n",
    "In this section, you will perform a principal component analysis (PCA) and reduce the features to three principal components.\n",
    "\n",
    "1. Create a PCA model instance and set `n_components=3`.\n",
    "\n",
    "2. Use the PCA model to reduce to three principal components. View the first five rows of the DataFrame. \n",
    "\n",
    "3. Retrieve the explained variance to determine how much information can be attributed to each principal component.\n",
    "\n",
    "4. Answer the following question: What is the total explained variance of the three principal components?\n",
    "\n",
    "5. Create a new DataFrame with the PCA data. Be sure to set the `coin_id` index from the original DataFrame as the index for the new DataFrame. Review the resulting DataFrame.\n",
    "\n",
    "6. Initiate a new  K-Means algorithm using the PCA DataFrame to group the cryptocurrencies. Set the `n_components` parameter equal to the best value for `k` found before. View the resulting array. \n",
    "\n",
    "7. For further analysis, add the following columns to the DataFrame with the PCA data. Review the resulting DataFrame once the additional columns have been added. Make sure to do the following:\n",
    "\n",
    "    - From the original DataFrame, add the `price_change_percentage_1y` and `price_change_percentage_14d` columns.\n",
    "\n",
    "    - Add a column with the predicted cluster values identified using a k value of 4. (The predicted cluster values were calculated in the “Cluster Cryptocurrencies with K-means” section.)\n",
    "\n",
    "    - Add a column with the predicted cluster values identified using the optimal value for k. \n"
   ]
  },
  {
   "cell_type": "code",
   "execution_count": 58,
   "metadata": {},
   "outputs": [],
   "source": [
    "# Create a PCA model instance and set `n_components=3`.\n",
    "pca=PCA(n_components=3)"
   ]
  },
  {
   "cell_type": "code",
   "execution_count": 59,
   "metadata": {},
   "outputs": [
    {
     "data": {
      "text/plain": [
       "array([[-0.46316554, -0.95162232,  0.49628841],\n",
       "       [-0.43539594, -0.54181334,  0.96834396],\n",
       "       [-0.54508126,  0.05744219, -0.60656923],\n",
       "       [-0.60301803,  0.10069339, -0.44473651],\n",
       "       [-0.69940568, -2.24894113,  1.87306371]])"
      ]
     },
     "execution_count": 59,
     "metadata": {},
     "output_type": "execute_result"
    }
   ],
   "source": [
    "# Use the PCA model with `fit_transform` to reduce to \n",
    "# three principal components.\n",
    "market_pca_data = pca.fit_transform(df_market_data_scaled)\n",
    "\n",
    "# View the first five rows of the DataFrame. \n",
    "market_pca_data[:5]"
   ]
  },
  {
   "cell_type": "code",
   "execution_count": 60,
   "metadata": {},
   "outputs": [
    {
     "data": {
      "text/plain": [
       "array([0.37403031, 0.32182581, 0.16420848])"
      ]
     },
     "execution_count": 60,
     "metadata": {},
     "output_type": "execute_result"
    }
   ],
   "source": [
    "# Retrieve the explained variance to determine how much information \n",
    "# can be attributed to each principal component.\n",
    "pca.explained_variance_ratio_\n"
   ]
  },
  {
   "cell_type": "markdown",
   "metadata": {},
   "source": [
    "Answer the following question: What is the total explained variance of the three principal components?\n",
    "\n",
    "**Question** What is the total explained variance of the three principal components?\n",
    "\n",
    "**Answer** The explained varience states that all three componenets contain 86 percent of the original information"
   ]
  },
  {
   "cell_type": "code",
   "execution_count": 61,
   "metadata": {},
   "outputs": [
    {
     "data": {
      "text/html": [
       "<div>\n",
       "<style scoped>\n",
       "    .dataframe tbody tr th:only-of-type {\n",
       "        vertical-align: middle;\n",
       "    }\n",
       "\n",
       "    .dataframe tbody tr th {\n",
       "        vertical-align: top;\n",
       "    }\n",
       "\n",
       "    .dataframe thead th {\n",
       "        text-align: right;\n",
       "    }\n",
       "</style>\n",
       "<table border=\"1\" class=\"dataframe\">\n",
       "  <thead>\n",
       "    <tr style=\"text-align: right;\">\n",
       "      <th></th>\n",
       "      <th>PC1</th>\n",
       "      <th>PC2</th>\n",
       "      <th>PC3</th>\n",
       "    </tr>\n",
       "    <tr>\n",
       "      <th>coin_id</th>\n",
       "      <th></th>\n",
       "      <th></th>\n",
       "      <th></th>\n",
       "    </tr>\n",
       "  </thead>\n",
       "  <tbody>\n",
       "    <tr>\n",
       "      <th>bitcoin</th>\n",
       "      <td>-0.463166</td>\n",
       "      <td>-0.951622</td>\n",
       "      <td>0.496288</td>\n",
       "    </tr>\n",
       "    <tr>\n",
       "      <th>ethereum</th>\n",
       "      <td>-0.435396</td>\n",
       "      <td>-0.541813</td>\n",
       "      <td>0.968344</td>\n",
       "    </tr>\n",
       "    <tr>\n",
       "      <th>tether</th>\n",
       "      <td>-0.545081</td>\n",
       "      <td>0.057442</td>\n",
       "      <td>-0.606569</td>\n",
       "    </tr>\n",
       "    <tr>\n",
       "      <th>ripple</th>\n",
       "      <td>-0.603018</td>\n",
       "      <td>0.100693</td>\n",
       "      <td>-0.444737</td>\n",
       "    </tr>\n",
       "    <tr>\n",
       "      <th>bitcoin-cash</th>\n",
       "      <td>-0.699406</td>\n",
       "      <td>-2.248941</td>\n",
       "      <td>1.873064</td>\n",
       "    </tr>\n",
       "  </tbody>\n",
       "</table>\n",
       "</div>"
      ],
      "text/plain": [
       "                   PC1       PC2       PC3\n",
       "coin_id                                   \n",
       "bitcoin      -0.463166 -0.951622  0.496288\n",
       "ethereum     -0.435396 -0.541813  0.968344\n",
       "tether       -0.545081  0.057442 -0.606569\n",
       "ripple       -0.603018  0.100693 -0.444737\n",
       "bitcoin-cash -0.699406 -2.248941  1.873064"
      ]
     },
     "execution_count": 61,
     "metadata": {},
     "output_type": "execute_result"
    }
   ],
   "source": [
    "# Create a new DataFrame with the PCA data.\n",
    "# Note: The code for this step is provided for you\n",
    "\n",
    "# Creating a DataFrame with the PCA data\n",
    "df_market_data_pca = pd.DataFrame(\n",
    "    market_pca_data, \n",
    "    columns=[\"PC1\", \"PC2\", \"PC3\"]\n",
    ")\n",
    "\n",
    "# Copy the crypto names from the original data\n",
    "df_market_data_pca[\"coin_id\"] = df_market_data.index\n",
    "\n",
    "# Set the coinid column as index\n",
    "df_market_data_pca = df_market_data_pca.set_index(\"coin_id\")\n",
    "\n",
    "# Display sample data\n",
    "df_market_data_pca.head()"
   ]
  },
  {
   "cell_type": "code",
   "execution_count": 62,
   "metadata": {},
   "outputs": [
    {
     "data": {
      "text/plain": [
       "array([3, 3, 0, 0, 3, 3, 3, 3, 3, 0, 0, 0, 0, 3, 0, 3, 0, 0, 3, 0, 0, 3,\n",
       "       0, 0, 0, 0, 0, 0, 3, 0, 0, 0, 1, 3, 0, 0, 2, 0, 0, 0, 0],\n",
       "      dtype=int32)"
      ]
     },
     "execution_count": 62,
     "metadata": {},
     "output_type": "execute_result"
    }
   ],
   "source": [
    "# Initiate a new  K-Means algorithm using the PCA DataFrame to group \n",
    "# the cryptocurrencies. Set the `n_components` parameter equal to \n",
    "# the best value for `k` found before. View the resulting array. \n",
    "\n",
    "# Initialize the K-Means model\n",
    "model = KMeans(n_clusters=4)\n",
    "\n",
    "# Fit the model\n",
    "model.fit(df_market_data_pca)\n",
    "\n",
    "# Predict clusters\n",
    "crypto_clusters_k5 = model.predict(df_market_data_pca)\n",
    "\n",
    "# View the resulting array\n",
    "crypto_clusters_k5"
   ]
  },
  {
   "cell_type": "code",
   "execution_count": 63,
   "metadata": {},
   "outputs": [
    {
     "data": {
      "text/html": [
       "<div>\n",
       "<style scoped>\n",
       "    .dataframe tbody tr th:only-of-type {\n",
       "        vertical-align: middle;\n",
       "    }\n",
       "\n",
       "    .dataframe tbody tr th {\n",
       "        vertical-align: top;\n",
       "    }\n",
       "\n",
       "    .dataframe thead th {\n",
       "        text-align: right;\n",
       "    }\n",
       "</style>\n",
       "<table border=\"1\" class=\"dataframe\">\n",
       "  <thead>\n",
       "    <tr style=\"text-align: right;\">\n",
       "      <th></th>\n",
       "      <th>PC1</th>\n",
       "      <th>PC2</th>\n",
       "      <th>PC3</th>\n",
       "      <th>price_change_percentage_1y</th>\n",
       "      <th>price_change_percentage_14d</th>\n",
       "      <th>crypto_cluster_k5</th>\n",
       "      <th>crypto_cluster_k4</th>\n",
       "    </tr>\n",
       "    <tr>\n",
       "      <th>coin_id</th>\n",
       "      <th></th>\n",
       "      <th></th>\n",
       "      <th></th>\n",
       "      <th></th>\n",
       "      <th></th>\n",
       "      <th></th>\n",
       "      <th></th>\n",
       "    </tr>\n",
       "  </thead>\n",
       "  <tbody>\n",
       "    <tr>\n",
       "      <th>bitcoin</th>\n",
       "      <td>-0.463166</td>\n",
       "      <td>-0.951622</td>\n",
       "      <td>0.496288</td>\n",
       "      <td>37.51761</td>\n",
       "      <td>6.57509</td>\n",
       "      <td>3</td>\n",
       "      <td>0</td>\n",
       "    </tr>\n",
       "    <tr>\n",
       "      <th>ethereum</th>\n",
       "      <td>-0.435396</td>\n",
       "      <td>-0.541813</td>\n",
       "      <td>0.968344</td>\n",
       "      <td>101.96023</td>\n",
       "      <td>4.80849</td>\n",
       "      <td>3</td>\n",
       "      <td>0</td>\n",
       "    </tr>\n",
       "    <tr>\n",
       "      <th>tether</th>\n",
       "      <td>-0.545081</td>\n",
       "      <td>0.057442</td>\n",
       "      <td>-0.606569</td>\n",
       "      <td>0.01954</td>\n",
       "      <td>0.00640</td>\n",
       "      <td>0</td>\n",
       "      <td>0</td>\n",
       "    </tr>\n",
       "    <tr>\n",
       "      <th>ripple</th>\n",
       "      <td>-0.603018</td>\n",
       "      <td>0.100693</td>\n",
       "      <td>-0.444737</td>\n",
       "      <td>-16.60193</td>\n",
       "      <td>2.24984</td>\n",
       "      <td>0</td>\n",
       "      <td>0</td>\n",
       "    </tr>\n",
       "    <tr>\n",
       "      <th>bitcoin-cash</th>\n",
       "      <td>-0.699406</td>\n",
       "      <td>-2.248941</td>\n",
       "      <td>1.873064</td>\n",
       "      <td>14.49384</td>\n",
       "      <td>14.75334</td>\n",
       "      <td>3</td>\n",
       "      <td>0</td>\n",
       "    </tr>\n",
       "  </tbody>\n",
       "</table>\n",
       "</div>"
      ],
      "text/plain": [
       "                   PC1       PC2       PC3  price_change_percentage_1y  \\\n",
       "coin_id                                                                  \n",
       "bitcoin      -0.463166 -0.951622  0.496288                    37.51761   \n",
       "ethereum     -0.435396 -0.541813  0.968344                   101.96023   \n",
       "tether       -0.545081  0.057442 -0.606569                     0.01954   \n",
       "ripple       -0.603018  0.100693 -0.444737                   -16.60193   \n",
       "bitcoin-cash -0.699406 -2.248941  1.873064                    14.49384   \n",
       "\n",
       "              price_change_percentage_14d  crypto_cluster_k5  \\\n",
       "coin_id                                                        \n",
       "bitcoin                           6.57509                  3   \n",
       "ethereum                          4.80849                  3   \n",
       "tether                            0.00640                  0   \n",
       "ripple                            2.24984                  0   \n",
       "bitcoin-cash                     14.75334                  3   \n",
       "\n",
       "              crypto_cluster_k4  \n",
       "coin_id                          \n",
       "bitcoin                       0  \n",
       "ethereum                      0  \n",
       "tether                        0  \n",
       "ripple                        0  \n",
       "bitcoin-cash                  0  "
      ]
     },
     "execution_count": 63,
     "metadata": {},
     "output_type": "execute_result"
    }
   ],
   "source": [
    "# Note: The code for the following step has been provided for you.\n",
    "\n",
    "# For further analysis, add the following columns to the DataFrame \n",
    "# with the PCA data. Review the resulting DataFrame once the additional \n",
    "# columns have been added. Make sure to do the following:\n",
    "# - From the original DataFrame, add the `price_change_percentage_1y` and `price_change_percentage_14d` columns.\n",
    "# - Add a column with the predicted cluster values identified using a k value of 4. (The predicted cluster values were calculated in the “Cluster Cryptocurrencies with K-means” section.)\n",
    "# - Add a column with the predicted cluster values identified using the optimal value for k. \n",
    "\n",
    "\n",
    "# Add the price_change_percentage_1y column from the original data\n",
    "df_market_data_pca[\"price_change_percentage_1y\"] = df_market_data[\"price_change_percentage_1y\"]\n",
    "\n",
    "# Add the price_change_percentage_14d column from the original data\n",
    "df_market_data_pca[\"price_change_percentage_14d\"] = df_market_data[\"price_change_percentage_14d\"]\n",
    "\n",
    "# Add a new column to the DataFrame with the predicted clusters using the best value of k\n",
    "df_market_data_pca[\"crypto_cluster_k5\"] = crypto_clusters_k5\n",
    "\n",
    "# Add a new column to the DataFrame with the predicted clusters using k=4\n",
    "df_market_data_pca[\"crypto_cluster_k4\"] = crypto_clusters_k4\n",
    "\n",
    "# Display sample data\n",
    "df_market_data_pca.head()"
   ]
  },
  {
   "cell_type": "markdown",
   "metadata": {},
   "source": [
    "---"
   ]
  },
  {
   "cell_type": "markdown",
   "metadata": {},
   "source": [
    "# Step 6: Plot Results\n",
    "\n",
    "In this section, you will visually analyze the cluster analysis results after using the optimization techniques.\n",
    "\n",
    "1. Use the PCA data to create two scatter plots using hvPlot by setting `x=\"price_change_percentage_14d\"` and `y=\"price_change_percentage_1y\"`. Make sure to do the following: \n",
    "\n",
    "    - In the first plot, color the plot points by the cluster values identified using a k value of 4.\n",
    "\n",
    "    - In the second plot, color the plot points by the cluster values identified using the optimal value for k.\n",
    "\n",
    "    - In both plots, add the crypto name by sing the `hover_cols` parameter to identify the cryptocurrency represented by each data point. \n",
    "\n",
    "2. Be sure to professionally style and format the plots so that the visualizations can be easily read. \n",
    "\n",
    "3. Answer the following question: What value of k creates the most accurate clusters of cryptocurrencies, grouped by profitability?\n"
   ]
  },
  {
   "cell_type": "code",
   "execution_count": 72,
   "metadata": {},
   "outputs": [
    {
     "data": {},
     "metadata": {},
     "output_type": "display_data"
    },
    {
     "data": {
      "application/vnd.holoviews_exec.v0+json": "",
      "text/html": [
       "<div id='4131'>\n",
       "\n",
       "\n",
       "\n",
       "\n",
       "\n",
       "  <div class=\"bk-root\" id=\"4f540e54-dec3-4014-8f50-3963ada4156b\" data-root-id=\"4131\"></div>\n",
       "</div>\n",
       "<script type=\"application/javascript\">(function(root) {\n",
       "  function embed_document(root) {\n",
       "    var docs_json = {\"b0fab1a7-efde-449f-8f34-b61eaabd7b2d\":{\"defs\":[],\"roots\":{\"references\":[{\"attributes\":{\"axis_label\":\"price_change_percentage_14d\",\"formatter\":{\"id\":\"4171\"},\"major_label_policy\":{\"id\":\"4169\"},\"ticker\":{\"id\":\"4149\"}},\"id\":\"4148\",\"type\":\"LinearAxis\"},{\"attributes\":{\"label\":{\"value\":\"1\"},\"renderers\":[{\"id\":\"4202\"}]},\"id\":\"4216\",\"type\":\"LegendItem\"},{\"attributes\":{\"fill_alpha\":{\"value\":0.2},\"fill_color\":{\"value\":\"#fc4f30\"},\"line_alpha\":{\"value\":0.2},\"line_color\":{\"value\":\"#fc4f30\"},\"size\":{\"value\":5.477225575051661},\"x\":{\"field\":\"price_change_percentage_14d\"},\"y\":{\"field\":\"price_change_percentage_1y\"}},\"id\":\"4201\",\"type\":\"Scatter\"},{\"attributes\":{\"axis\":{\"id\":\"4152\"},\"dimension\":1,\"grid_line_color\":null,\"ticker\":null},\"id\":\"4155\",\"type\":\"Grid\"},{\"attributes\":{\"angle\":{\"value\":0.0},\"fill_alpha\":{\"value\":1.0},\"fill_color\":{\"value\":\"#fc4f30\"},\"hatch_alpha\":{\"value\":1.0},\"hatch_color\":{\"value\":\"black\"},\"hatch_scale\":{\"value\":12.0},\"hatch_weight\":{\"value\":1.0},\"line_alpha\":{\"value\":1.0},\"line_cap\":{\"value\":\"butt\"},\"line_color\":{\"value\":\"#fc4f30\"},\"line_dash\":{\"value\":[]},\"line_dash_offset\":{\"value\":0},\"line_join\":{\"value\":\"bevel\"},\"line_width\":{\"value\":1},\"marker\":{\"value\":\"circle\"},\"size\":{\"value\":5.477225575051661},\"x\":{\"field\":\"price_change_percentage_14d\"},\"y\":{\"field\":\"price_change_percentage_1y\"}},\"id\":\"4217\",\"type\":\"Scatter\"},{\"attributes\":{},\"id\":\"4149\",\"type\":\"BasicTicker\"},{\"attributes\":{\"data_source\":{\"id\":\"4196\"},\"glyph\":{\"id\":\"4199\"},\"hover_glyph\":null,\"muted_glyph\":{\"id\":\"4201\"},\"nonselection_glyph\":{\"id\":\"4200\"},\"selection_glyph\":{\"id\":\"4217\"},\"view\":{\"id\":\"4203\"}},\"id\":\"4202\",\"type\":\"GlyphRenderer\"},{\"attributes\":{\"axis\":{\"id\":\"4148\"},\"grid_line_color\":null,\"ticker\":null},\"id\":\"4151\",\"type\":\"Grid\"},{\"attributes\":{},\"id\":\"4153\",\"type\":\"BasicTicker\"},{\"attributes\":{},\"id\":\"4214\",\"type\":\"UnionRenderers\"},{\"attributes\":{\"axis_label\":\"price_change_percentage_1y\",\"formatter\":{\"id\":\"4174\"},\"major_label_policy\":{\"id\":\"4172\"},\"ticker\":{\"id\":\"4153\"}},\"id\":\"4152\",\"type\":\"LinearAxis\"},{\"attributes\":{\"angle\":{\"value\":0.0},\"fill_alpha\":{\"value\":1.0},\"fill_color\":{\"value\":\"#e5ae38\"},\"hatch_alpha\":{\"value\":1.0},\"hatch_color\":{\"value\":\"black\"},\"hatch_scale\":{\"value\":12.0},\"hatch_weight\":{\"value\":1.0},\"line_alpha\":{\"value\":1.0},\"line_cap\":{\"value\":\"butt\"},\"line_color\":{\"value\":\"#e5ae38\"},\"line_dash\":{\"value\":[]},\"line_dash_offset\":{\"value\":0},\"line_join\":{\"value\":\"bevel\"},\"line_width\":{\"value\":1},\"marker\":{\"value\":\"circle\"},\"size\":{\"value\":5.477225575051661},\"x\":{\"field\":\"price_change_percentage_14d\"},\"y\":{\"field\":\"price_change_percentage_1y\"}},\"id\":\"4241\",\"type\":\"Scatter\"},{\"attributes\":{},\"id\":\"4169\",\"type\":\"AllLabels\"},{\"attributes\":{\"fill_color\":{\"value\":\"#fc4f30\"},\"line_color\":{\"value\":\"#fc4f30\"},\"size\":{\"value\":5.477225575051661},\"x\":{\"field\":\"price_change_percentage_14d\"},\"y\":{\"field\":\"price_change_percentage_1y\"}},\"id\":\"4199\",\"type\":\"Scatter\"},{\"attributes\":{},\"id\":\"4197\",\"type\":\"Selection\"},{\"attributes\":{\"data\":{\"crypto_cluster_k4\":[0,0,0,0,0,0,0,0,0,0,0,0,0,0,0,0,0,0,0,0,0,0,0,0,0,0,0,0,0,0,0,0,0,0],\"price_change_percentage_14d\":{\"__ndarray__\":\"zQaZZORMGkB5knTN5DsTQC1DHOviNno/ctwpHaz/AUCLic3HtYEtQJgvL8A+OhtADoRkARM4FkCAn3HhQCgdQCFZwARu3f2/MbH5uDYUIcBrSNxj6UN3v6X3ja89M/I/GqN1VDVpMkAVAOMZNHT2P1SM8zehkAJAl631RUIbFMCqZWt9kVDxv0IJM23/ChZAz4O7s3bbxT/DDfj8MLIjwGBZaVIKOhpAd/hrskYdHMDNr+YAwRzdP45Yi08BMAVA1q2ek943rj+6TiMtlTcOwJtVn6utKDLACTNt/8oqF0BATS1b64vgP065wrtcRPS//pqsUQ/R979yUMJM2x8lwJ30vvG1Z8q/ZCMQr+sXvD8=\",\"dtype\":\"float64\",\"order\":\"little\",\"shape\":[34]},\"price_change_percentage_1y\":{\"__ndarray__\":\"kQpjC0HCQkDWqIdodH1ZQN/42jNLApQ/NXugFRiaMMDN6bKY2PwsQOcdp+hIbFFAuiwmNh+DY0D52jNLAlQpwNDQP8HFbldAkL3e/fEQc0C+MJkqGJXIv7d/ZaVJkTHA6LzGLlGhYUBDyk+qfZ5NQOj2ksZogGFAXVDfMqe+YUDM7snDQp0rQMO2RZkNnFRAB7Ezhc5r0r8f9GxWfWlgQIYb8PlhxEJADf0TXKwANUDfFcH/VpI4QEuwOJz5FmlAFVJ+Uu3TwT81JO6x9OEPwCLDKt7IW2lAX9IYraO4VEDOwp52+KsDwPCiryDNOCZAyk+qfTpOJUCsVib8Uk8pwNttF5rrC2VAyXGndLD+2T8=\",\"dtype\":\"float64\",\"order\":\"little\",\"shape\":[34]}},\"selected\":{\"id\":\"4176\"},\"selection_policy\":{\"id\":\"4191\"}},\"id\":\"4175\",\"type\":\"ColumnDataSource\"},{\"attributes\":{},\"id\":\"4174\",\"type\":\"BasicTickFormatter\"},{\"attributes\":{\"active_multi\":null,\"tools\":[{\"id\":\"4135\"},{\"id\":\"4156\"},{\"id\":\"4157\"},{\"id\":\"4158\"},{\"id\":\"4159\"},{\"id\":\"4160\"}]},\"id\":\"4162\",\"type\":\"Toolbar\"},{\"attributes\":{\"fill_alpha\":{\"value\":0.2},\"fill_color\":{\"value\":\"#e5ae38\"},\"line_alpha\":{\"value\":0.2},\"line_color\":{\"value\":\"#e5ae38\"},\"size\":{\"value\":5.477225575051661},\"x\":{\"field\":\"price_change_percentage_14d\"},\"y\":{\"field\":\"price_change_percentage_1y\"}},\"id\":\"4223\",\"type\":\"Scatter\"},{\"attributes\":{},\"id\":\"4156\",\"type\":\"SaveTool\"},{\"attributes\":{\"source\":{\"id\":\"4218\"}},\"id\":\"4225\",\"type\":\"CDSView\"},{\"attributes\":{},\"id\":\"4157\",\"type\":\"PanTool\"},{\"attributes\":{},\"id\":\"4158\",\"type\":\"WheelZoomTool\"},{\"attributes\":{},\"id\":\"4219\",\"type\":\"Selection\"},{\"attributes\":{\"data\":{\"crypto_cluster_k4\":[2,2,2,2,2],\"price_change_percentage_14d\":{\"__ndarray__\":\"CoDxDBqaIkCXytsRTksawC9pjNZRlSrAO1PovMZuKsC7D0BqE0cdwA==\",\"dtype\":\"float64\",\"order\":\"little\",\"shape\":[5]},\"price_change_percentage_1y\":{\"__ndarray__\":\"aTo7GRxSdED8jAsHAuuFQN+JWS9GNoVAR8mrcwwLdEDZfFwbKgxnQA==\",\"dtype\":\"float64\",\"order\":\"little\",\"shape\":[5]}},\"selected\":{\"id\":\"4219\"},\"selection_policy\":{\"id\":\"4238\"}},\"id\":\"4218\",\"type\":\"ColumnDataSource\"},{\"attributes\":{\"label\":{\"value\":\"2\"},\"renderers\":[{\"id\":\"4224\"}]},\"id\":\"4240\",\"type\":\"LegendItem\"},{\"attributes\":{\"overlay\":{\"id\":\"4161\"}},\"id\":\"4159\",\"type\":\"BoxZoomTool\"},{\"attributes\":{\"fill_alpha\":{\"value\":0.1},\"fill_color\":{\"value\":\"#e5ae38\"},\"line_alpha\":{\"value\":0.1},\"line_color\":{\"value\":\"#e5ae38\"},\"size\":{\"value\":5.477225575051661},\"x\":{\"field\":\"price_change_percentage_14d\"},\"y\":{\"field\":\"price_change_percentage_1y\"}},\"id\":\"4222\",\"type\":\"Scatter\"},{\"attributes\":{\"data_source\":{\"id\":\"4218\"},\"glyph\":{\"id\":\"4221\"},\"hover_glyph\":null,\"muted_glyph\":{\"id\":\"4223\"},\"nonselection_glyph\":{\"id\":\"4222\"},\"selection_glyph\":{\"id\":\"4241\"},\"view\":{\"id\":\"4225\"}},\"id\":\"4224\",\"type\":\"GlyphRenderer\"},{\"attributes\":{\"data\":{\"crypto_cluster_k4\":[3],\"price_change_percentage_14d\":{\"__ndarray__\":\"vodLjjs9OEA=\",\"dtype\":\"float64\",\"order\":\"little\",\"shape\":[1]},\"price_change_percentage_1y\":{\"__ndarray__\":\"nFCIgONmn0A=\",\"dtype\":\"float64\",\"order\":\"little\",\"shape\":[1]}},\"selected\":{\"id\":\"4243\"},\"selection_policy\":{\"id\":\"4264\"}},\"id\":\"4242\",\"type\":\"ColumnDataSource\"},{\"attributes\":{\"fill_color\":{\"value\":\"#e5ae38\"},\"line_color\":{\"value\":\"#e5ae38\"},\"size\":{\"value\":5.477225575051661},\"x\":{\"field\":\"price_change_percentage_14d\"},\"y\":{\"field\":\"price_change_percentage_1y\"}},\"id\":\"4221\",\"type\":\"Scatter\"},{\"attributes\":{},\"id\":\"4160\",\"type\":\"ResetTool\"},{\"attributes\":{},\"id\":\"4238\",\"type\":\"UnionRenderers\"},{\"attributes\":{},\"id\":\"4243\",\"type\":\"Selection\"},{\"attributes\":{\"label\":{\"value\":\"3\"},\"renderers\":[{\"id\":\"4248\"}]},\"id\":\"4266\",\"type\":\"LegendItem\"},{\"attributes\":{\"fill_alpha\":{\"value\":0.1},\"fill_color\":{\"value\":\"#30a2da\"},\"line_alpha\":{\"value\":0.1},\"line_color\":{\"value\":\"#30a2da\"},\"size\":{\"value\":5.477225575051661},\"x\":{\"field\":\"price_change_percentage_14d\"},\"y\":{\"field\":\"price_change_percentage_1y\"}},\"id\":\"4179\",\"type\":\"Scatter\"},{\"attributes\":{\"angle\":{\"value\":0.0},\"fill_alpha\":{\"value\":1.0},\"fill_color\":{\"value\":\"#30a2da\"},\"hatch_alpha\":{\"value\":1.0},\"hatch_color\":{\"value\":\"black\"},\"hatch_scale\":{\"value\":12.0},\"hatch_weight\":{\"value\":1.0},\"line_alpha\":{\"value\":1.0},\"line_cap\":{\"value\":\"butt\"},\"line_color\":{\"value\":\"#30a2da\"},\"line_dash\":{\"value\":[]},\"line_dash_offset\":{\"value\":0},\"line_join\":{\"value\":\"bevel\"},\"line_width\":{\"value\":1},\"marker\":{\"value\":\"circle\"},\"size\":{\"value\":5.477225575051661},\"x\":{\"field\":\"price_change_percentage_14d\"},\"y\":{\"field\":\"price_change_percentage_1y\"}},\"id\":\"4195\",\"type\":\"Scatter\"},{\"attributes\":{\"text_color\":\"black\",\"text_font_size\":\"12pt\"},\"id\":\"4140\",\"type\":\"Title\"},{\"attributes\":{\"data\":{\"crypto_cluster_k4\":[1],\"price_change_percentage_14d\":{\"__ndarray__\":\"RIts5/uZI8A=\",\"dtype\":\"float64\",\"order\":\"little\",\"shape\":[1]},\"price_change_percentage_1y\":{\"__ndarray__\":\"dEaU9hasvkA=\",\"dtype\":\"float64\",\"order\":\"little\",\"shape\":[1]}},\"selected\":{\"id\":\"4197\"},\"selection_policy\":{\"id\":\"4214\"}},\"id\":\"4196\",\"type\":\"ColumnDataSource\"},{\"attributes\":{\"children\":[{\"id\":\"4132\"},{\"id\":\"4139\"},{\"id\":\"4412\"}],\"margin\":[0,0,0,0],\"name\":\"Row08454\",\"tags\":[\"embedded\"]},\"id\":\"4131\",\"type\":\"Row\"},{\"attributes\":{\"fill_color\":{\"value\":\"#6d904f\"},\"line_color\":{\"value\":\"#6d904f\"},\"size\":{\"value\":5.477225575051661},\"x\":{\"field\":\"price_change_percentage_14d\"},\"y\":{\"field\":\"price_change_percentage_1y\"}},\"id\":\"4245\",\"type\":\"Scatter\"},{\"attributes\":{},\"id\":\"4172\",\"type\":\"AllLabels\"},{\"attributes\":{},\"id\":\"4191\",\"type\":\"UnionRenderers\"},{\"attributes\":{\"fill_alpha\":{\"value\":0.1},\"fill_color\":{\"value\":\"#fc4f30\"},\"line_alpha\":{\"value\":0.1},\"line_color\":{\"value\":\"#fc4f30\"},\"size\":{\"value\":5.477225575051661},\"x\":{\"field\":\"price_change_percentage_14d\"},\"y\":{\"field\":\"price_change_percentage_1y\"}},\"id\":\"4200\",\"type\":\"Scatter\"},{\"attributes\":{},\"id\":\"4176\",\"type\":\"Selection\"},{\"attributes\":{\"angle\":{\"value\":0.0},\"fill_alpha\":{\"value\":1.0},\"fill_color\":{\"value\":\"#6d904f\"},\"hatch_alpha\":{\"value\":1.0},\"hatch_color\":{\"value\":\"black\"},\"hatch_scale\":{\"value\":12.0},\"hatch_weight\":{\"value\":1.0},\"line_alpha\":{\"value\":1.0},\"line_cap\":{\"value\":\"butt\"},\"line_color\":{\"value\":\"#6d904f\"},\"line_dash\":{\"value\":[]},\"line_dash_offset\":{\"value\":0},\"line_join\":{\"value\":\"bevel\"},\"line_width\":{\"value\":1},\"marker\":{\"value\":\"circle\"},\"size\":{\"value\":5.477225575051661},\"x\":{\"field\":\"price_change_percentage_14d\"},\"y\":{\"field\":\"price_change_percentage_1y\"}},\"id\":\"4267\",\"type\":\"Scatter\"},{\"attributes\":{\"margin\":[5,5,5,5],\"name\":\"HSpacer08458\",\"sizing_mode\":\"stretch_width\"},\"id\":\"4132\",\"type\":\"Spacer\"},{\"attributes\":{\"data_source\":{\"id\":\"4175\"},\"glyph\":{\"id\":\"4178\"},\"hover_glyph\":null,\"muted_glyph\":{\"id\":\"4180\"},\"nonselection_glyph\":{\"id\":\"4179\"},\"selection_glyph\":{\"id\":\"4195\"},\"view\":{\"id\":\"4182\"}},\"id\":\"4181\",\"type\":\"GlyphRenderer\"},{\"attributes\":{},\"id\":\"4144\",\"type\":\"LinearScale\"},{\"attributes\":{\"data_source\":{\"id\":\"4242\"},\"glyph\":{\"id\":\"4245\"},\"hover_glyph\":null,\"muted_glyph\":{\"id\":\"4247\"},\"nonselection_glyph\":{\"id\":\"4246\"},\"selection_glyph\":{\"id\":\"4267\"},\"view\":{\"id\":\"4249\"}},\"id\":\"4248\",\"type\":\"GlyphRenderer\"},{\"attributes\":{},\"id\":\"4146\",\"type\":\"LinearScale\"},{\"attributes\":{\"bottom_units\":\"screen\",\"fill_alpha\":0.5,\"fill_color\":\"lightgrey\",\"left_units\":\"screen\",\"level\":\"overlay\",\"line_alpha\":1.0,\"line_color\":\"black\",\"line_dash\":[4,4],\"line_width\":2,\"right_units\":\"screen\",\"syncable\":false,\"top_units\":\"screen\"},\"id\":\"4161\",\"type\":\"BoxAnnotation\"},{\"attributes\":{\"margin\":[5,5,5,5],\"name\":\"HSpacer08459\",\"sizing_mode\":\"stretch_width\"},\"id\":\"4412\",\"type\":\"Spacer\"},{\"attributes\":{\"fill_alpha\":{\"value\":0.2},\"fill_color\":{\"value\":\"#6d904f\"},\"line_alpha\":{\"value\":0.2},\"line_color\":{\"value\":\"#6d904f\"},\"size\":{\"value\":5.477225575051661},\"x\":{\"field\":\"price_change_percentage_14d\"},\"y\":{\"field\":\"price_change_percentage_1y\"}},\"id\":\"4247\",\"type\":\"Scatter\"},{\"attributes\":{\"end\":8639.055423,\"reset_end\":8639.055423,\"reset_start\":-804.5332530000002,\"start\":-804.5332530000002,\"tags\":[[[\"price_change_percentage_1y\",\"price_change_percentage_1y\",null]]]},\"id\":\"4134\",\"type\":\"Range1d\"},{\"attributes\":{\"source\":{\"id\":\"4242\"}},\"id\":\"4249\",\"type\":\"CDSView\"},{\"attributes\":{},\"id\":\"4171\",\"type\":\"BasicTickFormatter\"},{\"attributes\":{\"source\":{\"id\":\"4175\"}},\"id\":\"4182\",\"type\":\"CDSView\"},{\"attributes\":{},\"id\":\"4264\",\"type\":\"UnionRenderers\"},{\"attributes\":{\"callback\":null,\"renderers\":[{\"id\":\"4181\"},{\"id\":\"4202\"},{\"id\":\"4224\"},{\"id\":\"4248\"}],\"tags\":[\"hv_created\"],\"tooltips\":[[\"crypto_cluster_k4\",\"@{crypto_cluster_k4}\"],[\"price_change_percentage_14d\",\"@{price_change_percentage_14d}\"],[\"price_change_percentage_1y\",\"@{price_change_percentage_1y}\"]]},\"id\":\"4135\",\"type\":\"HoverTool\"},{\"attributes\":{\"fill_alpha\":{\"value\":0.1},\"fill_color\":{\"value\":\"#6d904f\"},\"line_alpha\":{\"value\":0.1},\"line_color\":{\"value\":\"#6d904f\"},\"size\":{\"value\":5.477225575051661},\"x\":{\"field\":\"price_change_percentage_14d\"},\"y\":{\"field\":\"price_change_percentage_1y\"}},\"id\":\"4246\",\"type\":\"Scatter\"},{\"attributes\":{\"fill_color\":{\"value\":\"#30a2da\"},\"line_color\":{\"value\":\"#30a2da\"},\"size\":{\"value\":5.477225575051661},\"x\":{\"field\":\"price_change_percentage_14d\"},\"y\":{\"field\":\"price_change_percentage_1y\"}},\"id\":\"4178\",\"type\":\"Scatter\"},{\"attributes\":{\"click_policy\":\"mute\",\"items\":[{\"id\":\"4194\"},{\"id\":\"4216\"},{\"id\":\"4240\"},{\"id\":\"4266\"}],\"location\":[0,0],\"title\":\"crypto_cluster_k4\"},\"id\":\"4193\",\"type\":\"Legend\"},{\"attributes\":{\"label\":{\"value\":\"0\"},\"renderers\":[{\"id\":\"4181\"}]},\"id\":\"4194\",\"type\":\"LegendItem\"},{\"attributes\":{\"fill_alpha\":{\"value\":0.2},\"fill_color\":{\"value\":\"#30a2da\"},\"line_alpha\":{\"value\":0.2},\"line_color\":{\"value\":\"#30a2da\"},\"size\":{\"value\":5.477225575051661},\"x\":{\"field\":\"price_change_percentage_14d\"},\"y\":{\"field\":\"price_change_percentage_1y\"}},\"id\":\"4180\",\"type\":\"Scatter\"},{\"attributes\":{\"source\":{\"id\":\"4196\"}},\"id\":\"4203\",\"type\":\"CDSView\"},{\"attributes\":{\"below\":[{\"id\":\"4148\"}],\"center\":[{\"id\":\"4151\"},{\"id\":\"4155\"}],\"height\":300,\"left\":[{\"id\":\"4152\"}],\"margin\":[5,5,5,5],\"min_border_bottom\":10,\"min_border_left\":10,\"min_border_right\":10,\"min_border_top\":10,\"renderers\":[{\"id\":\"4181\"},{\"id\":\"4202\"},{\"id\":\"4224\"},{\"id\":\"4248\"}],\"right\":[{\"id\":\"4193\"}],\"sizing_mode\":\"fixed\",\"title\":{\"id\":\"4140\"},\"toolbar\":{\"id\":\"4162\"},\"width\":700,\"x_range\":{\"id\":\"4133\"},\"x_scale\":{\"id\":\"4144\"},\"y_range\":{\"id\":\"4134\"},\"y_scale\":{\"id\":\"4146\"}},\"id\":\"4139\",\"subtype\":\"Figure\",\"type\":\"Plot\"},{\"attributes\":{\"end\":26.056251,\"reset_end\":26.056251,\"reset_start\":-19.975960999999998,\"start\":-19.975960999999998,\"tags\":[[[\"price_change_percentage_14d\",\"price_change_percentage_14d\",null]]]},\"id\":\"4133\",\"type\":\"Range1d\"}],\"root_ids\":[\"4131\"]},\"title\":\"Bokeh Application\",\"version\":\"2.3.2\"}};\n",
       "    var render_items = [{\"docid\":\"b0fab1a7-efde-449f-8f34-b61eaabd7b2d\",\"root_ids\":[\"4131\"],\"roots\":{\"4131\":\"4f540e54-dec3-4014-8f50-3963ada4156b\"}}];\n",
       "    root.Bokeh.embed.embed_items_notebook(docs_json, render_items);\n",
       "  }\n",
       "  if (root.Bokeh !== undefined && root.Bokeh.Panel !== undefined) {\n",
       "    embed_document(root);\n",
       "  } else {\n",
       "    var attempts = 0;\n",
       "    var timer = setInterval(function(root) {\n",
       "      if (root.Bokeh !== undefined && root.Bokeh.Panel !== undefined) {\n",
       "        clearInterval(timer);\n",
       "        embed_document(root);\n",
       "      } else if (document.readyState == \"complete\") {\n",
       "        attempts++;\n",
       "        if (attempts > 100) {\n",
       "          clearInterval(timer);\n",
       "          console.log(\"Bokeh: ERROR: Unable to run BokehJS code because BokehJS library is missing\");\n",
       "        }\n",
       "      }\n",
       "    }, 10, root)\n",
       "  }\n",
       "})(window);</script>"
      ],
      "text/plain": [
       ":NdOverlay   [crypto_cluster_k4]\n",
       "   :Scatter   [price_change_percentage_14d]   (price_change_percentage_1y)"
      ]
     },
     "execution_count": 72,
     "metadata": {
      "application/vnd.holoviews_exec.v0+json": {
       "id": "4131"
      }
     },
     "output_type": "execute_result"
    }
   ],
   "source": [
    "# Create a scatter plot for the Crypto Clusters using k=4 data.\n",
    "# Use the PCA data to create a scatter plot with hvPlot by setting \n",
    "# x=\"price_change_percentage_14d\" and y=\"price_change_percentage_1y\".\n",
    "# Group by the clusters using `by=\"crypto_cluster_k4\".\n",
    "# Set the hover colors to the coin id with `hover_cols=[\"coin_id\"]\n",
    "# Create a descriptive title for the plot using the title parameter.\n",
    "df_market_data_pca.hvplot.scatter(\n",
    "    x=\"price_change_percentage_14d\",\n",
    "    y=\"price_change_percentage_1y\",\n",
    "    by=\"crypto_cluster_k4\"\n",
    ")"
   ]
  },
  {
   "cell_type": "code",
   "execution_count": 70,
   "metadata": {},
   "outputs": [
    {
     "data": {},
     "metadata": {},
     "output_type": "display_data"
    },
    {
     "data": {
      "application/vnd.holoviews_exec.v0+json": "",
      "text/html": [
       "<div id='3768'>\n",
       "\n",
       "\n",
       "\n",
       "\n",
       "\n",
       "  <div class=\"bk-root\" id=\"6624fa73-c7d5-4c75-87fa-4b12652436b5\" data-root-id=\"3768\"></div>\n",
       "</div>\n",
       "<script type=\"application/javascript\">(function(root) {\n",
       "  function embed_document(root) {\n",
       "    var docs_json = {\"60a2d4d1-0489-4d07-b053-55477ca22a89\":{\"defs\":[],\"roots\":{\"references\":[{\"attributes\":{\"angle\":{\"value\":0.0},\"fill_alpha\":{\"value\":1.0},\"fill_color\":{\"value\":\"#fc4f30\"},\"hatch_alpha\":{\"value\":1.0},\"hatch_color\":{\"value\":\"black\"},\"hatch_scale\":{\"value\":12.0},\"hatch_weight\":{\"value\":1.0},\"line_alpha\":{\"value\":1.0},\"line_cap\":{\"value\":\"butt\"},\"line_color\":{\"value\":\"#fc4f30\"},\"line_dash\":{\"value\":[]},\"line_dash_offset\":{\"value\":0},\"line_join\":{\"value\":\"bevel\"},\"line_width\":{\"value\":1},\"marker\":{\"value\":\"circle\"},\"size\":{\"value\":5.477225575051661},\"x\":{\"field\":\"price_change_percentage_14d\"},\"y\":{\"field\":\"price_change_percentage_1y\"}},\"id\":\"3854\",\"type\":\"Scatter\"},{\"attributes\":{},\"id\":\"3880\",\"type\":\"Selection\"},{\"attributes\":{},\"id\":\"3797\",\"type\":\"ResetTool\"},{\"attributes\":{\"source\":{\"id\":\"3833\"}},\"id\":\"3840\",\"type\":\"CDSView\"},{\"attributes\":{\"source\":{\"id\":\"3879\"}},\"id\":\"3886\",\"type\":\"CDSView\"},{\"attributes\":{\"data_source\":{\"id\":\"3812\"},\"glyph\":{\"id\":\"3815\"},\"hover_glyph\":null,\"muted_glyph\":{\"id\":\"3817\"},\"nonselection_glyph\":{\"id\":\"3816\"},\"selection_glyph\":{\"id\":\"3832\"},\"view\":{\"id\":\"3819\"}},\"id\":\"3818\",\"type\":\"GlyphRenderer\"},{\"attributes\":{\"angle\":{\"value\":0.0},\"fill_alpha\":{\"value\":1.0},\"fill_color\":{\"value\":\"#e5ae38\"},\"hatch_alpha\":{\"value\":1.0},\"hatch_color\":{\"value\":\"black\"},\"hatch_scale\":{\"value\":12.0},\"hatch_weight\":{\"value\":1.0},\"line_alpha\":{\"value\":1.0},\"line_cap\":{\"value\":\"butt\"},\"line_color\":{\"value\":\"#e5ae38\"},\"line_dash\":{\"value\":[]},\"line_dash_offset\":{\"value\":0},\"line_join\":{\"value\":\"bevel\"},\"line_width\":{\"value\":1},\"marker\":{\"value\":\"circle\"},\"size\":{\"value\":5.477225575051661},\"x\":{\"field\":\"price_change_percentage_14d\"},\"y\":{\"field\":\"price_change_percentage_1y\"}},\"id\":\"3878\",\"type\":\"Scatter\"},{\"attributes\":{},\"id\":\"3828\",\"type\":\"UnionRenderers\"},{\"attributes\":{\"fill_color\":{\"value\":\"#6d904f\"},\"line_color\":{\"value\":\"#6d904f\"},\"size\":{\"value\":5.477225575051661},\"x\":{\"field\":\"price_change_percentage_14d\"},\"y\":{\"field\":\"price_change_percentage_1y\"}},\"id\":\"3882\",\"type\":\"Scatter\"},{\"attributes\":{\"label\":{\"value\":\"0\"},\"renderers\":[{\"id\":\"3818\"}]},\"id\":\"3831\",\"type\":\"LegendItem\"},{\"attributes\":{\"fill_color\":{\"value\":\"#fc4f30\"},\"line_color\":{\"value\":\"#fc4f30\"},\"size\":{\"value\":5.477225575051661},\"x\":{\"field\":\"price_change_percentage_14d\"},\"y\":{\"field\":\"price_change_percentage_1y\"}},\"id\":\"3836\",\"type\":\"Scatter\"},{\"attributes\":{\"fill_color\":{\"value\":\"#30a2da\"},\"line_color\":{\"value\":\"#30a2da\"},\"size\":{\"value\":5.477225575051661},\"x\":{\"field\":\"price_change_percentage_14d\"},\"y\":{\"field\":\"price_change_percentage_1y\"}},\"id\":\"3815\",\"type\":\"Scatter\"},{\"attributes\":{\"angle\":{\"value\":0.0},\"fill_alpha\":{\"value\":1.0},\"fill_color\":{\"value\":\"#30a2da\"},\"hatch_alpha\":{\"value\":1.0},\"hatch_color\":{\"value\":\"black\"},\"hatch_scale\":{\"value\":12.0},\"hatch_weight\":{\"value\":1.0},\"line_alpha\":{\"value\":1.0},\"line_cap\":{\"value\":\"butt\"},\"line_color\":{\"value\":\"#30a2da\"},\"line_dash\":{\"value\":[]},\"line_dash_offset\":{\"value\":0},\"line_join\":{\"value\":\"bevel\"},\"line_width\":{\"value\":1},\"marker\":{\"value\":\"circle\"},\"size\":{\"value\":5.477225575051661},\"x\":{\"field\":\"price_change_percentage_14d\"},\"y\":{\"field\":\"price_change_percentage_1y\"}},\"id\":\"3832\",\"type\":\"Scatter\"},{\"attributes\":{\"angle\":{\"value\":0.0},\"fill_alpha\":{\"value\":1.0},\"fill_color\":{\"value\":\"#6d904f\"},\"hatch_alpha\":{\"value\":1.0},\"hatch_color\":{\"value\":\"black\"},\"hatch_scale\":{\"value\":12.0},\"hatch_weight\":{\"value\":1.0},\"line_alpha\":{\"value\":1.0},\"line_cap\":{\"value\":\"butt\"},\"line_color\":{\"value\":\"#6d904f\"},\"line_dash\":{\"value\":[]},\"line_dash_offset\":{\"value\":0},\"line_join\":{\"value\":\"bevel\"},\"line_width\":{\"value\":1},\"marker\":{\"value\":\"circle\"},\"size\":{\"value\":5.477225575051661},\"x\":{\"field\":\"price_change_percentage_14d\"},\"y\":{\"field\":\"price_change_percentage_1y\"}},\"id\":\"3904\",\"type\":\"Scatter\"},{\"attributes\":{\"children\":[{\"id\":\"3769\"},{\"id\":\"3776\"},{\"id\":\"4049\"}],\"margin\":[0,0,0,0],\"name\":\"Row07690\",\"tags\":[\"embedded\"]},\"id\":\"3768\",\"type\":\"Row\"},{\"attributes\":{\"fill_alpha\":{\"value\":0.2},\"fill_color\":{\"value\":\"#e5ae38\"},\"line_alpha\":{\"value\":0.2},\"line_color\":{\"value\":\"#e5ae38\"},\"size\":{\"value\":5.477225575051661},\"x\":{\"field\":\"price_change_percentage_14d\"},\"y\":{\"field\":\"price_change_percentage_1y\"}},\"id\":\"3860\",\"type\":\"Scatter\"},{\"attributes\":{},\"id\":\"3781\",\"type\":\"LinearScale\"},{\"attributes\":{\"fill_alpha\":{\"value\":0.1},\"fill_color\":{\"value\":\"#30a2da\"},\"line_alpha\":{\"value\":0.1},\"line_color\":{\"value\":\"#30a2da\"},\"size\":{\"value\":5.477225575051661},\"x\":{\"field\":\"price_change_percentage_14d\"},\"y\":{\"field\":\"price_change_percentage_1y\"}},\"id\":\"3816\",\"type\":\"Scatter\"},{\"attributes\":{\"fill_alpha\":{\"value\":0.2},\"fill_color\":{\"value\":\"#30a2da\"},\"line_alpha\":{\"value\":0.2},\"line_color\":{\"value\":\"#30a2da\"},\"size\":{\"value\":5.477225575051661},\"x\":{\"field\":\"price_change_percentage_14d\"},\"y\":{\"field\":\"price_change_percentage_1y\"}},\"id\":\"3817\",\"type\":\"Scatter\"},{\"attributes\":{\"fill_alpha\":{\"value\":0.2},\"fill_color\":{\"value\":\"#6d904f\"},\"line_alpha\":{\"value\":0.2},\"line_color\":{\"value\":\"#6d904f\"},\"size\":{\"value\":5.477225575051661},\"x\":{\"field\":\"price_change_percentage_14d\"},\"y\":{\"field\":\"price_change_percentage_1y\"}},\"id\":\"3884\",\"type\":\"Scatter\"},{\"attributes\":{\"bottom_units\":\"screen\",\"fill_alpha\":0.5,\"fill_color\":\"lightgrey\",\"left_units\":\"screen\",\"level\":\"overlay\",\"line_alpha\":1.0,\"line_color\":\"black\",\"line_dash\":[4,4],\"line_width\":2,\"right_units\":\"screen\",\"syncable\":false,\"top_units\":\"screen\"},\"id\":\"3798\",\"type\":\"BoxAnnotation\"},{\"attributes\":{\"end\":8639.055423,\"reset_end\":8639.055423,\"reset_start\":-804.5332530000002,\"start\":-804.5332530000002,\"tags\":[[[\"price_change_percentage_1y\",\"price_change_percentage_1y\",null]]]},\"id\":\"3771\",\"type\":\"Range1d\"},{\"attributes\":{\"active_multi\":null,\"tools\":[{\"id\":\"3772\"},{\"id\":\"3793\"},{\"id\":\"3794\"},{\"id\":\"3795\"},{\"id\":\"3796\"},{\"id\":\"3797\"}]},\"id\":\"3799\",\"type\":\"Toolbar\"},{\"attributes\":{\"click_policy\":\"mute\",\"items\":[{\"id\":\"3831\"},{\"id\":\"3853\"},{\"id\":\"3877\"},{\"id\":\"3903\"}],\"location\":[0,0],\"title\":\"crypto_cluster_k5\"},\"id\":\"3830\",\"type\":\"Legend\"},{\"attributes\":{\"label\":{\"value\":\"3\"},\"renderers\":[{\"id\":\"3885\"}]},\"id\":\"3903\",\"type\":\"LegendItem\"},{\"attributes\":{\"data_source\":{\"id\":\"3879\"},\"glyph\":{\"id\":\"3882\"},\"hover_glyph\":null,\"muted_glyph\":{\"id\":\"3884\"},\"nonselection_glyph\":{\"id\":\"3883\"},\"selection_glyph\":{\"id\":\"3904\"},\"view\":{\"id\":\"3886\"}},\"id\":\"3885\",\"type\":\"GlyphRenderer\"},{\"attributes\":{},\"id\":\"3808\",\"type\":\"BasicTickFormatter\"},{\"attributes\":{},\"id\":\"3901\",\"type\":\"UnionRenderers\"},{\"attributes\":{},\"id\":\"3786\",\"type\":\"BasicTicker\"},{\"attributes\":{\"fill_alpha\":{\"value\":0.1},\"fill_color\":{\"value\":\"#6d904f\"},\"line_alpha\":{\"value\":0.1},\"line_color\":{\"value\":\"#6d904f\"},\"size\":{\"value\":5.477225575051661},\"x\":{\"field\":\"price_change_percentage_14d\"},\"y\":{\"field\":\"price_change_percentage_1y\"}},\"id\":\"3883\",\"type\":\"Scatter\"},{\"attributes\":{\"callback\":null,\"renderers\":[{\"id\":\"3818\"},{\"id\":\"3839\"},{\"id\":\"3861\"},{\"id\":\"3885\"}],\"tags\":[\"hv_created\"],\"tooltips\":[[\"crypto_cluster_k5\",\"@{crypto_cluster_k5}\"],[\"price_change_percentage_14d\",\"@{price_change_percentage_14d}\"],[\"price_change_percentage_1y\",\"@{price_change_percentage_1y}\"]]},\"id\":\"3772\",\"type\":\"HoverTool\"},{\"attributes\":{\"below\":[{\"id\":\"3785\"}],\"center\":[{\"id\":\"3788\"},{\"id\":\"3792\"}],\"height\":300,\"left\":[{\"id\":\"3789\"}],\"margin\":[5,5,5,5],\"min_border_bottom\":10,\"min_border_left\":10,\"min_border_right\":10,\"min_border_top\":10,\"renderers\":[{\"id\":\"3818\"},{\"id\":\"3839\"},{\"id\":\"3861\"},{\"id\":\"3885\"}],\"right\":[{\"id\":\"3830\"}],\"sizing_mode\":\"fixed\",\"title\":{\"id\":\"3777\"},\"toolbar\":{\"id\":\"3799\"},\"width\":700,\"x_range\":{\"id\":\"3770\"},\"x_scale\":{\"id\":\"3781\"},\"y_range\":{\"id\":\"3771\"},\"y_scale\":{\"id\":\"3783\"}},\"id\":\"3776\",\"subtype\":\"Figure\",\"type\":\"Plot\"},{\"attributes\":{\"fill_alpha\":{\"value\":0.2},\"fill_color\":{\"value\":\"#fc4f30\"},\"line_alpha\":{\"value\":0.2},\"line_color\":{\"value\":\"#fc4f30\"},\"size\":{\"value\":5.477225575051661},\"x\":{\"field\":\"price_change_percentage_14d\"},\"y\":{\"field\":\"price_change_percentage_1y\"}},\"id\":\"3838\",\"type\":\"Scatter\"},{\"attributes\":{},\"id\":\"3834\",\"type\":\"Selection\"},{\"attributes\":{\"axis\":{\"id\":\"3789\"},\"dimension\":1,\"grid_line_color\":null,\"ticker\":null},\"id\":\"3792\",\"type\":\"Grid\"},{\"attributes\":{\"text_color\":\"black\",\"text_font_size\":\"12pt\"},\"id\":\"3777\",\"type\":\"Title\"},{\"attributes\":{\"axis_label\":\"price_change_percentage_14d\",\"formatter\":{\"id\":\"3808\"},\"major_label_policy\":{\"id\":\"3806\"},\"ticker\":{\"id\":\"3786\"}},\"id\":\"3785\",\"type\":\"LinearAxis\"},{\"attributes\":{\"label\":{\"value\":\"1\"},\"renderers\":[{\"id\":\"3839\"}]},\"id\":\"3853\",\"type\":\"LegendItem\"},{\"attributes\":{},\"id\":\"3783\",\"type\":\"LinearScale\"},{\"attributes\":{\"end\":26.056251,\"reset_end\":26.056251,\"reset_start\":-19.975960999999998,\"start\":-19.975960999999998,\"tags\":[[[\"price_change_percentage_14d\",\"price_change_percentage_14d\",null]]]},\"id\":\"3770\",\"type\":\"Range1d\"},{\"attributes\":{\"data_source\":{\"id\":\"3833\"},\"glyph\":{\"id\":\"3836\"},\"hover_glyph\":null,\"muted_glyph\":{\"id\":\"3838\"},\"nonselection_glyph\":{\"id\":\"3837\"},\"selection_glyph\":{\"id\":\"3854\"},\"view\":{\"id\":\"3840\"}},\"id\":\"3839\",\"type\":\"GlyphRenderer\"},{\"attributes\":{\"axis\":{\"id\":\"3785\"},\"grid_line_color\":null,\"ticker\":null},\"id\":\"3788\",\"type\":\"Grid\"},{\"attributes\":{},\"id\":\"3851\",\"type\":\"UnionRenderers\"},{\"attributes\":{\"data_source\":{\"id\":\"3855\"},\"glyph\":{\"id\":\"3858\"},\"hover_glyph\":null,\"muted_glyph\":{\"id\":\"3860\"},\"nonselection_glyph\":{\"id\":\"3859\"},\"selection_glyph\":{\"id\":\"3878\"},\"view\":{\"id\":\"3862\"}},\"id\":\"3861\",\"type\":\"GlyphRenderer\"},{\"attributes\":{\"margin\":[5,5,5,5],\"name\":\"HSpacer07695\",\"sizing_mode\":\"stretch_width\"},\"id\":\"4049\",\"type\":\"Spacer\"},{\"attributes\":{\"fill_alpha\":{\"value\":0.1},\"fill_color\":{\"value\":\"#fc4f30\"},\"line_alpha\":{\"value\":0.1},\"line_color\":{\"value\":\"#fc4f30\"},\"size\":{\"value\":5.477225575051661},\"x\":{\"field\":\"price_change_percentage_14d\"},\"y\":{\"field\":\"price_change_percentage_1y\"}},\"id\":\"3837\",\"type\":\"Scatter\"},{\"attributes\":{},\"id\":\"3790\",\"type\":\"BasicTicker\"},{\"attributes\":{\"axis_label\":\"price_change_percentage_1y\",\"formatter\":{\"id\":\"3811\"},\"major_label_policy\":{\"id\":\"3809\"},\"ticker\":{\"id\":\"3790\"}},\"id\":\"3789\",\"type\":\"LinearAxis\"},{\"attributes\":{},\"id\":\"3875\",\"type\":\"UnionRenderers\"},{\"attributes\":{},\"id\":\"3809\",\"type\":\"AllLabels\"},{\"attributes\":{},\"id\":\"3856\",\"type\":\"Selection\"},{\"attributes\":{},\"id\":\"3806\",\"type\":\"AllLabels\"},{\"attributes\":{\"source\":{\"id\":\"3812\"}},\"id\":\"3819\",\"type\":\"CDSView\"},{\"attributes\":{},\"id\":\"3813\",\"type\":\"Selection\"},{\"attributes\":{\"margin\":[5,5,5,5],\"name\":\"HSpacer07694\",\"sizing_mode\":\"stretch_width\"},\"id\":\"3769\",\"type\":\"Spacer\"},{\"attributes\":{\"data\":{\"crypto_cluster_k5\":[3,3,3,3,3,3,3,3,3,3,3,3,3],\"price_change_percentage_14d\":{\"__ndarray__\":\"zQaZZORMGkB5knTN5DsTQIuJzce1gS1AmC8vwD46G0AKgPEMGpoiQA6EZAETOBZAgJ9x4UAoHUAao3VUNWkyQFSM8zehkAJAQgkzbf8KFkBgWWlSCjoaQAkzbf/KKhdA/pqsUQ/R978=\",\"dtype\":\"float64\",\"order\":\"little\",\"shape\":[13]},\"price_change_percentage_1y\":{\"__ndarray__\":\"kQpjC0HCQkDWqIdodH1ZQM3pspjY/CxA5x2n6EhsUUBpOjsZHFJ0QLosJjYfg2NA+dozSwJUKcDovMYuUaFhQOj2ksZogGFAw7ZFmQ2cVECGG/D5YcRCQF/SGK2juFRAyk+qfTpOJUA=\",\"dtype\":\"float64\",\"order\":\"little\",\"shape\":[13]}},\"selected\":{\"id\":\"3880\"},\"selection_policy\":{\"id\":\"3901\"}},\"id\":\"3879\",\"type\":\"ColumnDataSource\"},{\"attributes\":{},\"id\":\"3811\",\"type\":\"BasicTickFormatter\"},{\"attributes\":{\"label\":{\"value\":\"2\"},\"renderers\":[{\"id\":\"3861\"}]},\"id\":\"3877\",\"type\":\"LegendItem\"},{\"attributes\":{},\"id\":\"3793\",\"type\":\"SaveTool\"},{\"attributes\":{\"fill_alpha\":{\"value\":0.1},\"fill_color\":{\"value\":\"#e5ae38\"},\"line_alpha\":{\"value\":0.1},\"line_color\":{\"value\":\"#e5ae38\"},\"size\":{\"value\":5.477225575051661},\"x\":{\"field\":\"price_change_percentage_14d\"},\"y\":{\"field\":\"price_change_percentage_1y\"}},\"id\":\"3859\",\"type\":\"Scatter\"},{\"attributes\":{\"fill_color\":{\"value\":\"#e5ae38\"},\"line_color\":{\"value\":\"#e5ae38\"},\"size\":{\"value\":5.477225575051661},\"x\":{\"field\":\"price_change_percentage_14d\"},\"y\":{\"field\":\"price_change_percentage_1y\"}},\"id\":\"3858\",\"type\":\"Scatter\"},{\"attributes\":{},\"id\":\"3794\",\"type\":\"PanTool\"},{\"attributes\":{\"data\":{\"crypto_cluster_k5\":[0,0,0,0,0,0,0,0,0,0,0,0,0,0,0,0,0,0,0,0,0,0,0,0,0,0],\"price_change_percentage_14d\":{\"__ndarray__\":\"LUMc6+I2ej9y3CkdrP8BQCFZwARu3f2/MbH5uDYUIcBrSNxj6UN3v6X3ja89M/I/FQDjGTR09j+XrfVFQhsUwKpla32RUPG/z4O7s3bbxT/DDfj8MLIjwHf4a7JGHRzAza/mAMEc3T+OWItPATAFQNatnpPeN64/uk4jLZU3DsCbVZ+rrSgywJfK2xFOSxrAQE0tW+uL4D9OucK7XET0vy9pjNZRlSrAO1PovMZuKsByUMJM2x8lwJ30vvG1Z8q/ZCMQr+sXvD+7D0BqE0cdwA==\",\"dtype\":\"float64\",\"order\":\"little\",\"shape\":[26]},\"price_change_percentage_1y\":{\"__ndarray__\":\"3/jaM0sClD81e6AVGJowwNDQP8HFbldAkL3e/fEQc0C+MJkqGJXIv7d/ZaVJkTHAQ8pPqn2eTUBdUN8yp75hQMzuycNCnStAB7Ezhc5r0r8f9GxWfWlgQA39E1ysADVA3xXB/1aSOEBLsDic+RZpQBVSflLt08E/NSTusfThD8AiwyreyFtpQPyMCwcC64VAzsKedvirA8Dwoq8gzTgmQN+JWS9GNoVAR8mrcwwLdECsVib8Uk8pwNttF5rrC2VAyXGndLD+2T/ZfFwbKgxnQA==\",\"dtype\":\"float64\",\"order\":\"little\",\"shape\":[26]}},\"selected\":{\"id\":\"3813\"},\"selection_policy\":{\"id\":\"3828\"}},\"id\":\"3812\",\"type\":\"ColumnDataSource\"},{\"attributes\":{},\"id\":\"3795\",\"type\":\"WheelZoomTool\"},{\"attributes\":{\"overlay\":{\"id\":\"3798\"}},\"id\":\"3796\",\"type\":\"BoxZoomTool\"},{\"attributes\":{\"data\":{\"crypto_cluster_k5\":[1],\"price_change_percentage_14d\":{\"__ndarray__\":\"RIts5/uZI8A=\",\"dtype\":\"float64\",\"order\":\"little\",\"shape\":[1]},\"price_change_percentage_1y\":{\"__ndarray__\":\"dEaU9hasvkA=\",\"dtype\":\"float64\",\"order\":\"little\",\"shape\":[1]}},\"selected\":{\"id\":\"3834\"},\"selection_policy\":{\"id\":\"3851\"}},\"id\":\"3833\",\"type\":\"ColumnDataSource\"},{\"attributes\":{\"source\":{\"id\":\"3855\"}},\"id\":\"3862\",\"type\":\"CDSView\"},{\"attributes\":{\"data\":{\"crypto_cluster_k5\":[2],\"price_change_percentage_14d\":{\"__ndarray__\":\"vodLjjs9OEA=\",\"dtype\":\"float64\",\"order\":\"little\",\"shape\":[1]},\"price_change_percentage_1y\":{\"__ndarray__\":\"nFCIgONmn0A=\",\"dtype\":\"float64\",\"order\":\"little\",\"shape\":[1]}},\"selected\":{\"id\":\"3856\"},\"selection_policy\":{\"id\":\"3875\"}},\"id\":\"3855\",\"type\":\"ColumnDataSource\"}],\"root_ids\":[\"3768\"]},\"title\":\"Bokeh Application\",\"version\":\"2.3.2\"}};\n",
       "    var render_items = [{\"docid\":\"60a2d4d1-0489-4d07-b053-55477ca22a89\",\"root_ids\":[\"3768\"],\"roots\":{\"3768\":\"6624fa73-c7d5-4c75-87fa-4b12652436b5\"}}];\n",
       "    root.Bokeh.embed.embed_items_notebook(docs_json, render_items);\n",
       "  }\n",
       "  if (root.Bokeh !== undefined && root.Bokeh.Panel !== undefined) {\n",
       "    embed_document(root);\n",
       "  } else {\n",
       "    var attempts = 0;\n",
       "    var timer = setInterval(function(root) {\n",
       "      if (root.Bokeh !== undefined && root.Bokeh.Panel !== undefined) {\n",
       "        clearInterval(timer);\n",
       "        embed_document(root);\n",
       "      } else if (document.readyState == \"complete\") {\n",
       "        attempts++;\n",
       "        if (attempts > 100) {\n",
       "          clearInterval(timer);\n",
       "          console.log(\"Bokeh: ERROR: Unable to run BokehJS code because BokehJS library is missing\");\n",
       "        }\n",
       "      }\n",
       "    }, 10, root)\n",
       "  }\n",
       "})(window);</script>"
      ],
      "text/plain": [
       ":NdOverlay   [crypto_cluster_k5]\n",
       "   :Scatter   [price_change_percentage_14d]   (price_change_percentage_1y)"
      ]
     },
     "execution_count": 70,
     "metadata": {
      "application/vnd.holoviews_exec.v0+json": {
       "id": "3768"
      }
     },
     "output_type": "execute_result"
    }
   ],
   "source": [
    "# Create a scatter plot for the Crypto Clusters using k=5 data.\n",
    "# Use the PCA data to create a scatter plot with hvPlot by setting \n",
    "# x=\"price_change_percentage_14d\" and y=\"price_change_percentage_1y\".\n",
    "# Group by the clusters using `by=\"crypto_cluster_k5\".\n",
    "# Set the hover colors to the coin id with `hover_cols=[\"coin_id\"]\n",
    "# Create a descriptive title for the plot using the title parameter.\n",
    "df_market_data_pca.hvplot.scatter(\n",
    "    x=\"price_change_percentage_14d\",\n",
    "    y=\"price_change_percentage_1y\",\n",
    "    by=\"crypto_cluster_k5\"\n",
    ")"
   ]
  },
  {
   "cell_type": "code",
   "execution_count": 71,
   "metadata": {},
   "outputs": [
    {
     "ename": "NameError",
     "evalue": "name 'df_market_data_pca_5' is not defined",
     "output_type": "error",
     "traceback": [
      "\u001b[0;31m---------------------------------------------------------------------------\u001b[0m",
      "\u001b[0;31mNameError\u001b[0m                                 Traceback (most recent call last)",
      "\u001b[0;32m<ipython-input-71-d334954f2ac0>\u001b[0m in \u001b[0;36m<module>\u001b[0;34m\u001b[0m\n\u001b[1;32m      1\u001b[0m \u001b[0;31m# Compare both scatter plots\u001b[0m\u001b[0;34m\u001b[0m\u001b[0;34m\u001b[0m\u001b[0;34m\u001b[0m\u001b[0m\n\u001b[0;32m----> 2\u001b[0;31m \u001b[0mdf_market_data_pca_5\u001b[0m \u001b[0;34m*\u001b[0m \u001b[0mdf_market_data_pca_4\u001b[0m\u001b[0;34m\u001b[0m\u001b[0;34m\u001b[0m\u001b[0m\n\u001b[0m",
      "\u001b[0;31mNameError\u001b[0m: name 'df_market_data_pca_5' is not defined"
     ]
    }
   ],
   "source": [
    "# Compare both scatter plots\n",
    "df_market_data_pca_5 * df_market_data_pca_4"
   ]
  },
  {
   "cell_type": "markdown",
   "metadata": {},
   "source": [
    "Answer the following question: What value of k creates the most accurate clusters of cryptocurrencies, grouped by profitability?\n",
    "\n",
    "**Question:** What value of `k` seems to create the most accurate clusters to group cryptocurrencies according to their profitability?\n",
    "\n",
    "**Answer:** YOUR ANSWER HERE!"
   ]
  },
  {
   "cell_type": "code",
   "execution_count": null,
   "metadata": {},
   "outputs": [],
   "source": []
  }
 ],
 "metadata": {
  "kernelspec": {
   "display_name": "Python 3",
   "language": "python",
   "name": "python3"
  },
  "language_info": {
   "codemirror_mode": {
    "name": "ipython",
    "version": 3
   },
   "file_extension": ".py",
   "mimetype": "text/x-python",
   "name": "python",
   "nbconvert_exporter": "python",
   "pygments_lexer": "ipython3",
   "version": "3.7.9"
  }
 },
 "nbformat": 4,
 "nbformat_minor": 4
}
